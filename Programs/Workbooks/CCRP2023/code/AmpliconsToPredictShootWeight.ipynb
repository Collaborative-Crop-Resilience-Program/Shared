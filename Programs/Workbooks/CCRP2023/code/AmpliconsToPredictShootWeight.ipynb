{
  "nbformat": 4,
  "nbformat_minor": 0,
  "metadata": {
    "colab": {
      "provenance": []
    },
    "kernelspec": {
      "name": "python3",
      "display_name": "Python 3"
    },
    "language_info": {
      "name": "python"
    }
  },
  "cells": [
    {
      "cell_type": "markdown",
      "metadata": {
        "id": "ZgqkZPZdi_Pc"
      },
      "source": [
        "#**Amplicons to Predict Shoot Weight**\n",
        "### *B Kirtley Amos - Electical and Computer Engineering*"
      ]
    },
    {
      "cell_type": "markdown",
      "metadata": {
        "id": "SP0wDI62k7nm"
      },
      "source": [
        "\n",
        "\n",
        "---\n",
        "\n",
        "Hi all! This notebook is meant to be a primer to how an analysis of microbiome data could be performed in order to initially investigate the 16s amplicon data and then apply basic machine learning to predict shoot weight with amplicon data. Initial investigation allows an understanding of the general trends of the data and machine learning lets us investigate if our data can be used to predict components of interest.\n",
        "\n",
        "Imports for all the code below. Please run first before anything else!"
      ]
    },
    {
      "cell_type": "code",
      "metadata": {
        "id": "byHwkWWKlCmF",
        "colab": {
          "base_uri": "https://localhost:8080/"
        },
        "outputId": "ce80a751-6fd3-45f8-c568-ac833ed42030"
      },
      "source": [
        "!git clone https://github.com/BKAmos/Tutorials.git\n",
        "\n",
        "# data preprocessing\n",
        "import pandas as pd\n",
        "import numpy as np\n",
        "import matplotlib\n",
        "from sklearn.model_selection import train_test_split\n",
        "\n",
        "# linear regression\n",
        "import matplotlib.pyplot as plt\n",
        "import numpy as np\n",
        "from sklearn import datasets, linear_model\n",
        "\n",
        "# random forest\n",
        "from sklearn import tree, metrics\n",
        "from sklearn.tree import DecisionTreeRegressor\n",
        "from sklearn.ensemble import RandomForestRegressor\n",
        "\n",
        "# xgboost\n",
        "from xgboost import XGBRegressor"
      ],
      "execution_count": null,
      "outputs": [
        {
          "output_type": "stream",
          "name": "stdout",
          "text": [
            "Cloning into 'Tutorials'...\n",
            "remote: Enumerating objects: 9, done.\u001b[K\n",
            "remote: Counting objects: 100% (9/9), done.\u001b[K\n",
            "remote: Compressing objects: 100% (5/5), done.\u001b[K\n",
            "remote: Total 9 (delta 0), reused 0 (delta 0), pack-reused 0\u001b[K\n",
            "Unpacking objects: 100% (9/9), 136.47 KiB | 502.00 KiB/s, done.\n"
          ]
        }
      ]
    },
    {
      "cell_type": "markdown",
      "metadata": {
        "id": "EQQCGfdiHZhJ"
      },
      "source": [
        "\n",
        "\n",
        "---\n",
        "\n",
        "###Introduction\n"
      ]
    },
    {
      "cell_type": "markdown",
      "metadata": {
        "id": "8Hs8mq7lyra_"
      },
      "source": [
        "This workshop will be showing both the workflow of basic data exploration in a microbiome study and a typical ML project approach. ### ADD SOME DATA ###"
      ]
    },
    {
      "cell_type": "markdown",
      "metadata": {
        "id": "h4v9HLjpyjef"
      },
      "source": [
        "![ml_lifecycle.png](data:image/png;base64,iVBORw0KGgoAAAANSUhEUgAAAsoAAAHkCAIAAACoup7MAAAAAXNSR0IArs4c6QAAAARnQU1BAACxjwv8YQUAAAAJcEhZcwAADsMAAA7DAcdvqGQAAFu/SURBVHhe7d29jhw3+vbh9yj2AHwAPgBHTpwocjSRA0UbKVgn42hhKDGwgBwZq8TRBAYMKNjE0GYLKFIyidMBDDgVIH/vLmzDwP+9p2/OsxySxa6qZn+M5ndBEKaKLBaLZJFPVfdI/+//AAAAhiK8AAAAgxFeAACAwQgvAADAYIQXAABgMMILAAAwGOEFAAAYjPACAAAMRngBAAAGI7wA1nj69OnZ2dm7776rv/Vz2gvc9urVq8ePHz948EBD5eHDh8+fP08Ju7m8vNSoe/TokUs2DcXz8/OLiwudNOXD3ffs2bPo5RcvXqS9dwHhBbCYFgzf7UF7UhpwQ8u8Qoo0RG7sGIwqQHFc26HVSEFGOgB309XVVTzDBMIL4E2mOzzd67fdrTsfB6DlIQ2O27RypBxLKFg5Pz9PRcxAyHvnaGAofNSwqaNSu7/hxdS9NGXdPdZXP1Z21I8RSy8h1EUdS6rQzvQA9OiGrk4PQ5eXl+kc99vUIDmdMXDPpf5YLh0/ju6dVPRtKxaJ4kWI4gzPn7orOzEHIe8dMjVacoQXc+3j9V3+SeRW9Xqw9BLC6SwtqUL7oeZVAHfP44ypQXI6Y+CeS/2xXDp+nFHhRRFbqNiUcENzaUq7jRcYdwjhRc/Stfns7CwdOcizZ89S0fPU68HSSwins7SkCu2Z7oR9vHy6E3SHp1a4jSfFE5H6Y7l0/DhT88nSe+fJkyfpyI3m4c0Xt+fn5ykZJ4/wYi7dAPn3XaeMfQ7e+sGkMszvHl3C1DOBqKgTf4jXE8/Ut8Dqp5+CjlVDiVqg06rq4nTAPVNP5TwmFjR43DLHjbxVjamPsTU7aQBrqKese1C8dbCld40monTkhgpMCZV6WI76RRUcRR1waDyntLtgv1/t1OBOrTJh4KSsOzkVOmHdy5LiucHu0DNBMTfZ1vCioEKaz0Zyb5dVrZoO3fT36by7Oh3xKvHojTM1Mxzm8UBn1z3iBy1FBivW++LW699xavYYlvc2+n9jEF70bF3yddelrDvL3zQ035qsm+biISy3j2+N7E+qdGZpeGGxYBQUgaUcwI2Iy08h9qqn6YEzz74Vsxmx7P1BeLFFapWNurFkVIidv4RsPmoPDC/uVh+nSmfWhRcyFWHwDhaFuB9PM7xYfQscWD3/EF7cH4QXW6RW2WguTkM+aLi8vEzFbTQ/lCG8CLvMrc2vYqz74Alvqvy1JeHFLuqvfxFe3B+EF1ukVtlQ09TtJVc7/w5C/g2Jx48fN2MCwouwy9za/DKH8EEvQv4gQXixC7VeqvENwov7g/Bii9QqG2qa5guM3b/K4G8z2fPnzwkvcqnSmR3n1nrQyx36uiv2Lf+kkvBiF4QX9xnhxRapVTbUNK9evaq/d7njq/X8oxB/Y4vwIpcqndlxbq2nPEvJuN+KjyYJL3ZBeHGfEV5skVplw03T/N7lLr8klhfo32IgvMilSmd2nFubbSK7f8iFu65+fiC82AXhxX1GeLFFapUNN01zcVr9y43FdOYwpXkKwouwp/DibjULhtPNmH8sYoQXuyC8uM8IL7ZIrbIRTZN/VcL8ocYK+Zc54kOW5vpHeBEILzCcIvs6thDCi10QXtxnhBdbpFbZiKap7xlZ928n5L8nGV8Rba5/hBfh8OGFnmvz3+5Je2+72vwr7KpbvI7Sz9qjY1OOGZRZEafOlZdj2qPRogJHfYij61WZLnzHSV+DXyWotCLy1oKtOitp7D8xqdLUDio56m9qMe15/Pix2nB+Kyln8xNP27FlhiguU7QnpR2E2jN6dlGDKLOPCru3p3pfhaj3i3BQNVSzKGndVDxFt6QK9C1ZD2+f8W7NqAWNf/WvbgFdy9Scs+7+1eGpoBs7NtSBu/444YX6I+3K6JqdOl9RTkyIOlHalVHbOXWRZlF362ZIlc5oJKW0VTQEU0G3NeMArz3FXZfSbjhPSqvoTpgTYahTOoUUVKZmhHTkcjq2uPPXjS5dlw4sGmfKjnUWn66Y4jt0jf2hrtRinlpqx6E4U9FZcpjzqsG1tBQN3hkqdT1nSsdvk0c5fcqmes657zo0PDSrpxK30V0wdcaUY4mpcTu/heeMELXn/PGvJl16/9a17d+PHQfuejtOeCHNbl56Sbp105G3R4NOlPZmOnd1R7Oo1X18FKnSmTl3Tkf+HiJodkjJmxjZzytT917Kt5l/m6UV+hVWdDJ/FsupejOfKlRPdbqf+JvRwIrRpUNmBhY5NUWE0YusO510zqgyU6a1dhyKM+ks6Xw39ndeD361TH1S6wyVqUO2SsdPU5Vmri45HbJurlMjrLsWDVHdZamUGyltialqz69Vf4Ssa09Z1KR1bVd0x4G7Pne08ELBVNqbqQdWX7565YGhTpT2Zjp3dUezqN3b/ZBSpTP9O2er5mB9fPM/LaXtLufUHDR/3E+tcLp56lVTxWos5aGDukxxTHN93fpIMWcRXTS6FKzUE4fqrBrmQ0v111XUIZquIr+0rdR0zThPddC1R8OqVmrMZqCmMyrJ2XJzWqZvx6E4U93aezpvfaLa4cOLOoJXh+qGVZ/GE52GgQZDs/e33iAFDdp0ZEZnrIe3mqI5A6gaUTFJe5eYmqLnt/DUCFHFmm9Jm3OOcjbnnJnTRV3bqeuacuCuLxwtvNC11e2uSTAlz6COTIdtmiwfjjpRSsgsWgBCs6ilfXxcqdKZqTtnjmaDSLRJ2u5StmZY0NFsc43+lJzpdLQGSX2/ScRGTSow5Zs2f3Rp3NZTav9wTVtFW2lzZoShbM0brTOGldSc9OfMNXVbzW+Z/amn6V1ugY76RLVFDbJje2rA11UqFu9Cs/fnLzPNpVd1njrj1C2pIVofompMTRrN/H31FKSW6d9WOkUdqauQTvto8W6Oiv6cY/WBndu2oKoeuOtrRwsvpDkQZ06akg/Koqt0opSQWTfNNYua38enIFU6o2GX0pZr3ip5gWlXl27s9NOGDo9oemoGiYfsoJwpLTPnZlh6YD3F12aOLl1jcQPrYueM+TpKmDOfNmOLOfNaXU/bOvLrtlp3341VD9pdboGO5t1RWNQgO7Zn/Ug65wZR7xeL6MxRWk/pMw9svvBo9pFKS8m3rZuT8/7SJae9E+pmkTm3oTTfDWztyno4zb/MA3d90zHDC22mhIyChpS8TT79aXFKezeaJa+b5ppFze/jU5AqnVk9t9aTnWj81Wt/rr5JYs3TD/Wgr4d4PSqas8yc+8eUMx2TmX8XrZ706+lp/lhaelI1Y7RzmBNbWHPk66ZLyRNWt8xe1SNw9S2w1I4Nssvh9VuB+cfWvb+1xeqqLlqZ6j6S5h1dn0jm3/u5fBHZeifWNZwZW0jzZpSlM+fM6eLAXT/lmOGF1E9I6oOU1pU//tZTXt1AMr99c82iZvbxiUiVzqwbLs0lWbbe2M2JQ3RzTs0+uht9h2g81LGFUuuRo2g9Jc9TR/eqT0rbpp7g5oyu+qj60jrqGUqbndmtbnY1Wid/rfl+sQjlC+taZt/qplg9Yy61Y4OsPryeuOYPb6sbrTPvNefJiyXfpdNCmw7LNOtc3wgyP24O+Rm3joe6I2TRY31z/uzPAIu6IBy46zuOHF40+6w/f1k+8dU91Bzri+7q0CxqXVsfS6p0ZuncqvvZi31tzkNDPVhFI37RUpdrDpv+c0CtOZ3NfAaqK7B1dOl0i4KDpnq9nzpvcy5bOm6bTdS/0hUtcwD1CFx6C6y2Y4OsPlz3VzrgxtLer4dQp9HqcH9FCzfD2ZR2W90sK+6mvJD+orPiRmha2kr1uJ3TiQfu+o4jhxfNbtv6GFpEr3UIqROltMyK0SDNopb21nGlSmfmjBVdo6jRmp8a2szFuL5Jdoktit63Fc8uUl9a/SasqZ7dto6uOj5bUef6tp+q8JDpXuq+6z+SrmiZA6ivYl1rrLBjg6w7PH+5azMHdq45OWtnSs4MiWVFh6SDb+hOT2m3NSeBRS9LJO6RrY1Txz0rohmpe7O/2NXjdmurHrjr+44cXkjdgtLvuXw0N1/71MNUFt3VoVnU1j4+KanSQ6nXdvlUdZcGbM5li95ShvpWlDkvz1ZM+vVsuKLOOiQdnKlvlmYTaWdKXkJnzGuun/uzzIqWOYB6BGpPStuzHRtk3eF13Lx06bV60DbvjjqWXbGkWbGQdz47qOP1RSfN7/1+4zTX2nXPM7pVi1cL/dlmxcx54K7vO3540ZwK+y2SN3ozZzMmWDfNNYvaZXU8vFTpQTR8l46zseFF/epPd0JKW0h3eyoiM2fiWDrp53PZcHVj1lOMpLTlFGG4zfX31pBo3XK4b/cqvGiO6lHqszdD3kXXWFDcoDtaOrGFNFf9+VNT3CM6Uf9pVkuMc+ZWz2A6l0+tYGhrxL905jxw1291/PCi2SLNdxJWjKrms5ROlJIz60Z8s6jVY+soUqVX0fgWrbhqPV11/z6csvQm6WiOFt2uKXm5um6ablLaNLVGyn2jP7rql6sDFVPq8CZaZGnLHEbdy9qT0vZsxwZZcXjzgW2Uesmv3yLI1jB0iPq2mtmt+SKy9XFi4PPMUktnzgN3/VbHDy+kOflODdA8lpyaNHWilCOzbpprFrV6dTyKVOnMweZWW3qTdDRfA6zrWWtOjs2YNbd00q9nqIGKUw8c/CssbZnDqEfgwW6BHRtkxeHNIT1K3W5120pK27PmUN9680reRFsjoZQvc7DBU7dtf+Y8cNdvdRLhRXPNmIqV8s/5pl4uDZxhm0X1+/jUpEpnDnZ72NKbpKOebWX+G9Fas8Ct1Vs66adMmXWjcY7hTbTI0pY5jHoEHuwW2LFBVhx+4ItN58h03j0PV1/s1rcR8uDmiwVbW6Y5/0+tTcPVV9efmg7c9VudRHgh9ZeDmi+g8s/5Op+ZNcfEummuWVS/j09NqnTmwGNu6U3S0XzRtUt3rHsdsmjSLz7Os3WjcY7hTbTIopY5mCNOuzs2yIrD67l0fxfbHNuHnF7qjwM664Llh0w9oIbmxw0HG9JLZ85Ddv0cpxJeNN/q1I9cebZOlKoTpUyZdWOiWdTBJushUqUzBx5zS2+Sjroo2aU71g2VRZP+ulOsNryJFlnUMgdTt8nBboEdG2TF4SlfZn8X2xzbB2tbq9fUmb8ZoAPTrml1+8uiHtxFPW77N3LKlDlwXxROJbxoRsH1VyvipZZ03vcOnNCbRfX7+NSkSmcOPOaW3iQddVGyS3esGyr1pNM5ZN0pVhveRIssapmDqdvkYLfAjg2y4vCUL7O/i22O7YO1rdW/2dGJG/KFZk5H1O0vi3pwF/W47d/IKVPmwH1ROJXwQppff8tfc+XvsfuB58AJvVlU/0IWGVjUlFTpzIHH3NKbpKMuSnZpw2b/bh0q9aTTOWTdKVYb3kSLLGqZg6nbZOAtoBVL0kZlxwZZcXjKlxl4sYXm2N7f6Zq0RuSPnTb18Jm//+70WqjbXxb14C7qcdu/kVOmzIH7onBC4UXzU678s7H8Q+X+l2sGTujNovoXMp8L172hS5sz1tdxnXMHHnNLb5KOuijZpTua/bt1qNSTTueQdadYbXgTLbKoZQ6mbpOBt4AL19NR84P8HRtkxeEpX2bgxRaaY3t/p5tSf7Y+9UuFEYh0PlvP1e0vi3pwF/W47d/IKVPm8H2RO6Hwovn7+vEl5CK1/9tEAyf0ZlH9C5kvAqatX0fahU+RO/CYW3qTdOQhZtilO9Z9dauedDqH5N9HDvvrgubXmEaN2K0WtczB1CNwVPvrqSCVOHGlOzbIisPrR3lJaaM1J+0DTy+S90KoH9jym33mHbHuq9+jLJ05D9n1c5xQeCHNxcOjJB8ZW3/xSSdKWTPrxkSzqJlDsy+/JWaG0uukc2QOfP8vvUk66tlWdumOdQXWR/VHV8qU2d8v7zWvqPlgvQ9LW+Yw6hE46hbIp6x6PZMdG2TF4fXFyiGfXuZ8ZXK4eu2o33DH5+/za9ic//c6XeeWzpwH7vqtTiu8aIaKHiV5w/W/GCzNMbFummsWtfVC5sivqPM11d2lc2R06pR2EEtvko7mCNk6Hjo6EW3H0kk/5rVcShutOWL7HyYOtGI5PIB6BA65BfKmnooXd2yQFYcf+PVV3bZy+CWtHvbFK+H8JeKiaDsdk9nfs0Fh6cx53DeXtdMKL0RxZcp9Q3vyB33ZOvvXQ03WTXPNonbvsLxY3QZp736k02SGzK3zLb1JOpovY3dZO5vjLaVNWzrpN4OY/cWU6QSZg02IK5bDA6hH4JBbIC92KsbdsUFWHN78vG9/8WVdQ9nr89KUupfzMCLuwaWfRNfFymHip/rU/ZnzwF2/1cmFF834K2/lOf97Qr54h0V3dWgWtXp1NA3NfFXbd/en02TUnintIJbeJH31m4DVa2cRttqcN59LJ/3mS5f9vWLVPZLOkdkalA+xtGUOox6Bu98Cxe9DTq03OzbIisObIficoHmd5leL9je2O+rFNa5abRLfS1g639a/+CqL3n+stnTmPHDXb3Vy4UVzxs/N6ddmTLBummsWtcvqKMWzbP9rqrtLp8nc6fCiebevWzubRc2p24pJv/7W1Y5vrTSVKK7Seetrb0Yz68Z/Trfe1mVjRcscwPDwQvds3qGdZ54dG2Td4c34csd5RmWq95uF1BH/0jcENR2uPlpa5/yxzXw755HH0rmiuWbvPoXq0lRIv5Xqcbt1djpw1/edXHgh9WANM0etTpQOyKyb5ppFzbyQpiLEPkBomc6U2f3eWGTFTdKhAVAv1VOvpvvqkTazO1ZM+vUhssszULRq80V0Pc9qz5x7Z0rcCP05cUXLHEA9Ane5BXT5xcjp9OOODbLu8OastcsbhahG89G/mNNs3S0Z3GW60xfdI3VNHPlFf63r9+KB0HZZs2MS013ZKacet1tnzgN3fd8phhfNwWozm6nZxIvu6tAsauaF1OpLW1erRdKZMrvMrSusuEn6YsSHFVFas2dnfmZcV2BrPzajohXVtpjvpu6IsS8wNANG5TVTp70tK1rmAOoRuPoWqGMLtcz+4q3Vh9eXLOte8sWspQufutKiTaTfLH35cj7zlrTmXZbfC4tKC2q3utghQ0jFdjpl3cx54K7vOMXwQpeRDqjMLKG5cqyb5ppFzaxGIb9nwrpeXySdKbP6xlinfpJe14ChOYksfVqqJ8T5zbJu0m9+FrNiWMb3k/r3/KjXpDpF9ODWNWNdy+xbPeGuuwXyMCv0n3l2bJDVh6uq6YDMiquOtVkX3hk8zdP5zcFS+W2yYvDULRZWR/PSvHnXvaHJb8z+TFjPUXNmzgN3fcd+w4siUJgfOTZX4vmDoxkTrBipkke+YenqqPz1QBHtTDn2KZ0ss8tttkI6a2bdM0Su7hfdA/NjtXoO2vHwmaOrueQvGk5x6q33fB4WBO3pxwcFtUkM3TmzTH3r9VdfUZnrpun56rtv6WyrRqs73fqDuY5sZg4VqwfM/HfUu4ezujR1ug/Ug2zaO2HIApwXsnXkNGnEpuMrOw6z3eN1jaJ8advapClfZuYlNPtif10/Zb/hRXGR84PZevGQ+fdVcyJY97zSDHTmD1NdSD2/hB2H+xzNSEsWrTG7aA70+SOho+4arSJzrive+OX6i0ShHmAzb11Vr17qdBvPjDDikues9KI8MUcEVWBmIJVPMfPP6PxBB3Y6xadYNPEt1VxvdNKUvI0OV/WiHQr9cnThzQgvJc9QH67uS2kz7DJ95bfJzAVml9OprfL1W0WlhOWa1ZA5k0PHjjevbo388K1N2pw55z8eHLjrm/YVXqjF4xVuTgNISXMaqL6v5syJ6sJmbGE+e8q6TacojZKpqVaV1CnUi+rdqSkp7Djc+1QTjYypOugSFi2oK6gCzTvE1BdTbTjf0rtdDd4clktvoXpgzF8gm5OUqITOeNBFxVG6xvlNp5z1GNCe/iWr7/K5ftEZ6zu3uVTkfTG/9RbRKTTIm60tGpxTDa7W1oGq1dSxofPMo0KmHi3mDH5lyLsgp/ac3x3NZUYld6bTovcX3R0rTifFTNUcMPOpcVJBmR3LtHU3r5KUIWXd2Hr3FflzqoAGZ+d04cBdXxsZXnRaZErnjUKxDKhNU0JFt3HKtJAqnIq4seISVlMvprMOlUpfLh2/s87bmo5OTNChe6x5C6kOujHyKVjla0Q1F9oVYVY9Tuqx1DFVbVVGlVRVY+7Q3a4LyZt00UpvKqQ5JyoO0BJbtJL2FD2ozTlzWVB7piMzKiTaWWdUc+V9oZM6aYhU6EEUfbFuAonBs+PhU6aifA1CdUosNuplbRYjc8UC0z9dPra1WdyV+nnHJc2KMSxL75opW2/elG8zznUtRWbddFM1qes8R7/3D9z1hdMNL3TlKdNGZwJSj6ZMC9Uds+72XmfIXVRLpS+Xjt/Zupskvy2X0tjIZ6j5tj5UTanHSf8mb9L9vLTaihLWVVhWjG1Vr3PfdRTPBh2abdUO6bBBUtH7p8qnU95YN4HE4Nnx8A4tac0Qs0O9v/quXHE60dSxengXNKhSoRudp9N1Vty8ovuiE6nvI7yQA3d97nTDC8kbpdMrdzG8UP91rmgX6QTLpeN3dvjwQtSY6rv5N7wCi13OWI+TeizN4WrXnybUdGnrVvqc5m49oMxpJVVJFdtliGr+7V+XUne/oqZ0gv2rO70eGHNEOTsevpUeaWauNP2FcKb5p9vxfmzKh98+nuUW3by677ZGTnsKL+zAXW/7/WoncGCapHS/6UYt7iXd4dqpO0e32e43T70MzJ/im6aqrU1NTGMnR12+1n41hU6XhxqaKLVH1Zh6ebuCaq6VI5+C3QvD31hgPvWvAjv1i/oi9cqGukk7lTRqdbE4XTG2dXaP7bGnC/GqX4M87dqPuHnzcR4TzkkN9QN3PeEFsNjw8ALAQFom053JvXk8hBfAYoQXwCnL79BR3+fAUoQXwGKEF8Api88pzvfzC3qYg/ACWIzwAjhZz7NfGxn+jVHMR3gBLFaHFxf7+SUIAEvF9xbPDvu/H6BAeAEsVocXPCQBp+Aq+weTxv7KFZYivAAWK8KLff/mG4CZ4vdRH636T6YwEOEFsFgRXmhGSwkAjid/dcELxaMjvACS+IcmH2z7PzyLfyCIiQzYnyc3/8a84vj+v/t0fvPfcRHxnwLCC+CaQgRPTOHRxH/llT8hCRMZsD/1B5FT/6rss5v/Rlx59vQvgWIRwgvgWv1tTXnY+i/E8n9PVxmYyID9Kf75alH0UH9n83n2f4zxT86fCMIL4NrFxP9crDkr/il+PTblk93Z2Rn/ICCwV/FVzcKTJ0989+muzPPw2yKng/ACSIpvVPRNfXQCYCDFEPFaok/ZeG9xUggvgP9pfkRSODs74wkJOJjLy8utof/jGf/jOQ6M8AK45dWrV/4/i+O/LRA9GD3ifxIHjke3nmKI/NNJ35W6WwksThPhBQAAGIzwAgAADEZ4AQAABiO8AAAAgxFeAACAwQgvAADAYIQXAABgMMILAAAwGOEFAAAYjPACAAAMRngBAAAGI7wAAACDEV4AAIDBCC8AAMBghBcAAGAwwgsAADAY4QUAABiM8AIAAAxGeAEAAAYjvAAAAIMRXgAAgMEILwAAwGCEFwAAYDDCCwAAMBjhBQAAGIzwAgAADEZ4AQAABiO8AAAAg40JL94FAAC4QXgBAAAG48MRAAAwGOEFAAAYjPACAAAMRngBAAAGI7wAAACDEV4AAIDBCC8AAMBghBcAAGAwwgsAADAY4QUAABiM8AIAAAxGeAEAAAYjvAAAAIMRXgAAgMEILwAAwGCEFwAAYDDCCwAAMBjhBQAAGIzwAgAADEZ4AQAABiO8AAAAgxFeAACAwQgvAADAYIQXAABgMMILAAAwGOEFAAAYjPACAAAMRngBAAAGI7wAAACDEV4AAIDBCC8AAMBghBcAAGAwwgsAADAY4QUAABiM8AIAAAxGeAEAAAYjvAAAAIMRXgAAgMEILwAAwGBvVHjx9OnTd1sePHhwfn7+7NmzlG80n/fRo0dpexvlVH4dlbbviBcvXmya8139kHatcnl5qe5Qp7g0t8OQwl3CzIYddTkAgNr68OLXl1+8/suf9Cdtn4Cp8CI8fvw4ZR2K8GK+q6srBxYPHz5UO8i+wwudqFnskDMCAJpWhhe/ff3Vdx+9dbLhRdq+oSXtyZMnTtrHou7zaqVM29so555qsldD1mNFeCpB3ZG292/3OgMAlloTXvz68ouILe5EeGHn5+dOffXqVdo1COHFfL72Qy72u9cZALDU4vDi3//4q0KKHz5555eLP9+t8OLq6sqpw7+EQXgx3+4lLHX4MwIAFoQXv3391Y+fvufY4o/X3/7y5Yd3K7wQp8a67vzeVMxxdnaWp4o/VfF+efjw4cXFRUrLuByHF/7eYuRvhjKd8EKrYHzt0d9Iba6Lm+KvL1M1fPz4sfOrnvnpVFV/7UCpyqOcKWGGV69eqXpx4a6GeLOukvP7dKIftJm/JXIT1SImi8K9aW4on+758+dRfr9ZnDR1Ru135uYZTUnRqqLT6ewpLeNTuMA5/Q4A98eC8MKxxS8Xf/bmmxRexDczJFK1xsQCk9PiUXy84nK0FsaKlau/TzoVXvh7CbX6mwreryWtrqEz10Up58wIQ1cXC3kuyvT6HZrVEEUnSnIeN1FtZnjRbJl6Cfd+V2/qjHn/eo83g8Iy7y/U/ehT6G/VxHlydX4AuD8WhBcKLH59+UXauIPhRXw4Em8gnN9rmBbU/Ak1lkzt9xrpB/Tr47NF0bxfOXWIkpxfp4vHWWVwTvMZi50R4mi/4wD9HWcsnp69U+t3fjoXKz5KBToM0uLna1F9Nkdv4XJ0iBrKJeRvDiQPL3TeaKioZOTX394TNgWUAYo0F3vXxC2TN0vUsIjzro+vCm/ulOYZI1BQcBCnm+pHt7NyqibKE+MkurI+KQDcE2u+2ml3LryIJ2AvGxL561XQC1i9P9ak/NE5ytFRadeN5kLonfla1SzW/DCtSCJtbzhzUT2dIj7OiBDK4ok8bU+LmhQBjbjakq+a0VDFSh+VKa5oU8Cy8EKKy1HhjmmaUVdReHOn1GeMYv0GKBddHINHYmcdt7nmdTkAcE/ci/AifwDNZ/zmmiF6DPX+eokVF5WvKFPlSKxheVF1eOHQp45mrF5Kr0tsVc/lKH/avqGK+ZC0Pc1X16yJTudCYqmOYpsN5ZimKMr55yz24oYqQitzPfM2lE0B68OLCMKKUMncC3mg0+l3F6X6p20AuGfezPBiilbflHXD+evVK5aZtH1bnepypoIDZ84Xwjq88NKV78nV+a9LbC2Zrkke+gQfkjamdWoS63Gct99Q9fot3lPXvJnZF958B+ArLeq5KWB9eOGQZSomqFNdh2a/u/CpogDgjXdfwgutDfUTtvPXa0Bn2ZBYlvxZu0yVY9qv1HzJ9x4dlbZvlsC+vATvqZdM1yQvOUwdUnC25tuIuPAoxKfbKhpKvKeuRhSetjfqhgrNK90UUBbe3Cn1GX26qU80fMb8zZD3NPvdhTeTAOA+uEffvahNLQ+dZUNiWYoVq59f+4tU79FRaftmCezLS/Ceesl0TfKSw9QhuVevXnWyTV34Vnlp9R6LwtP2Rt1QoXmlmwLKwps7pT5j53QSF5u2u/3uwptJAHAfEF401gDvP/zbi3oJnDKV3zXJSw5ThxScbdHbi0WLaFFCiMLT9kbdUKF5pZsCysKbO6U+o0/H2wsA2B3hRWMNWPfdi6m1pP42g5exfI/zqOS0vY0yS71kuiZ5yWHqkIKzNUuI9TgKcVPkK+5WRQkhCk/bG3VDheaVbgooC2/ulPqM9bcrcnWq69DM78KnigKANx7hRWMN6P/miPIrKX8b4XKav+AQReXLm0vIl0YvXXmZOeWXvIRNkY0l0zXJSw5ThxRck+abG7VGUUhcXf7tiqBsapPi67TOX1dDe5yUtjfqhgrNK90UUBbe3Cn1GSNwrH9zJH5nNQ8BXQdVMm1nXHgzCQDuA8KL9hrgha1eZWNNyperOG/9r1Z4tS4ij3rVjGLrdTr+oaf8tx+9J6+DuSZ5yWHqkEKcrsip9VWtUSf5WurAKPLfofAiYoj68xGfTql55OGdzfHjwptJAHAfEF70lgenesnXuqInVy8/zV9wNf3sOEB/O7aQ4i1Ic9WMzHkJUXKR2TvrJdP5i8w2dUjNYYGuNKIl1T9iC8kLiRcYyhCXGfmL9Vicua5GNHja3mg2lDWvdFNAWXi8j8njM2me0cWKIozoBf3snUX46Myd8dNMAoD7YG548evLLxxMbP2jsMOHxJ78nxLfq1gb0vY2neVB4jm+oOWqWDJdjtZUBx+FYk2S5qqpMiPCKNQP095fL9KuSVGyTR1SU03yYCL43+ySopCpCz/L/s+R4KS6Gl6PJW1vDAkvouTgDM0zSlxmoa6G60B4AQA1woveGqDVUYtNrJ1a/utYQVSOC9GTrvJrWY38xVJnnVVT5TtVdN6pEpyhTvIVNUueOqRJEYYKiQtRlXzh3qwLKS5c0YkOL4Iwc4a6BO1xUtre6DRU80o3BTQKVwAUrSrO0DyjKX+EeuoFXVpdprgOKjltZ1x4MwkA7oP1H44AAAA0EV4AAIDBCC8AAMBghBcAAGAwwgsAADAY4QUAABiM8AIAAAxGeAEAAAYjvAAAAIMRXgAAgMEILwAAwGCEFwAAYDDCCwAAMBjhBQAAGIzwAgAADEZ4AQAABiO8AAAAgxFeAACAwQgvAADAYIQXAABgMMILAAAwGOEFAAAYjPACAAAMRngBAAAGI7wAAACDEV4AAIDBCC8AAMBghBcAAGAwwgsAADAY4QUAABiM8AIAAAxGeAEAAAYjvAAAAIMRXgAAgMEILwAAwGCEFwAAYDDCCwAAMBjhBQAAGIzwAgAADPZGhRdPnz59t+Xs7Oz8/PzFixcp3x3x6tUr1//Bgwdp12E9evRIZ1erpu3Ror/S9ghXV1cqUDVP2//3fz6FPHz4MO2acHl5mbLeLmHf3M6HPKOvcU93hAvf37ABcCcsCy/+eP3tL19++MMn77z+y5/858dP3/v3P/6q/SnHUU2FF0EzuNbslHutZ8+eab0/wGKgE6V6v/vu8+fP094D8rJ3t8KLx48fq8B84fQpTMFH2tvy5MmTlI/wYhu3VXNsuHDCC+CeWxBe/Pdff//uo7cisMj/aP9vX3+V8h3P1HKlp9JYOfQIu2OE4bMcYDE4Pz93nUWrZtp7QPsOL4arX13Ipv2u3wDp7/61nJ2dRc5DLvaHd90iu4UXd25sADiwueGFogdHEt9//PZ//vk3v674/ZuXv3z5oWOOU4gwpsILU5AxZOU4THjhT0ZUYQcZ+iElHNCdW0LqVxeiPeIkBRBpb0VHKYOiT1/1vvv3uK5bhPACwD7NDS/8gYj+rj8HUVThCOPHT99Lu46kH17I8+fPnWGXzxoOE15cXFzoLFoU4yOSw38+creWkOarC9k03nXr+QdFmSnhNscfanZf9b7797g2LUF4AWCPZoUX8eri929epl23/fLlh85w3C9hbA0vRI+nylB/y09T7fn5uV+PmyZQLTYpeSMlVFLyhhY5LVQ+i+nnJ0+eLP1ExiVoUYwveKqQlJbxLO91QpnjvJ2vss65UsuXEEc5Uy9RVKZSdeGxqVP4XZG4BervPTQDNTdgVE8/aHPqWnKOD+qcLkc/uMyoZMG11dl91UWtZH7P+rrcbopm/P7J+dWMzpPL2zn4EP2g8nVeV09/6+eZLWnNpOuiW22l6ilndJx+UOXzuNYdXcvL9566cF2Ihlk0oLqj2Xo+hQvMr135dS11fgCnaW548fPnH3ReTvz68guHF/oh7ToGz6SStlviZUA+R2sK885aPW/WUvLtL2MWNEXOnxlVNx/iTa9Pml69mVP1lKQZuXkJ9WI280rNhXvZU+WdrfkSxcU6KXqhoMsp3hzUK59K8FpSay7MwS1WX4L4cP2gxUw/RKvmdF4l+XBfdVHUop71denv5lFqq5Tvhs/odg7OrJLzgMbmtGRoJm2KuRUBNE8Uom6rwwt1ULP8+loivND+ejCokPn3EYAjWvDVzo7//uvvDi+mXm8chmdSSdstXocklsk4Sj9EzKEfYn+xsHl/PZXHzKtoIGZMTYU63LNkva5MiU9GvOnFT4qJWFQN7ffCGfXX395frHxLr9SFKNWbjnKaV6ETiX5oNoLq76WlWZ9oSSUpg/Yoc/SOCvF5pVixco5vmhl8rH5QUf45Cg8+hS/fVx21kqU96+vSTqXGIcrvbpKinkU7m3MqSYVEv8QZi1izaMlcM+m66NvVcB18ruijvPFjwFizzub8eeEqMAZANH5ci/6OM4pbW+XrkHwk6KZw/uZJAZyaMeHFz59/oNji+4/fTttH4plU0vYE54lJSpO+JuvmpwNetJqLRz2Va7rUbKjpOG1nlKRDmq8fmlSO8ueroCdWVTVt3/AsL0X9NV/7kLyQpVdaLCG+ChXrzaBTaL/r5sapr1T10U4VmK86RUt6XZFiJRO1qtqkWXNR/rycgsv0z27Y4jJVN+fxIuerzktb2rO+LqkPceFFP3pntLNtCrhu7QhoLFopb42iJXPNpE0BZXhRn8t0dcqsK03bG80626bsW4W7Diq/6NkYpXmPxAXqvO6R4HLUF2kbwAkbEF7ENzP+88+/pV1H4tlH0vYE52nOjAUvHsXU7LM0p/IpXv8kbXc5c7GKe/mvl23P8vV+8XPnnMuU5pUWS0gsw3nIIq6bVyY3TrM+taIlO+FFn8sp1r/gMv2zlmRv5uuWrz1CAV910RRTmj3r+kh9Ia5Av51tU0D7Czfu2XyVLVoy10y6Lrp6iTLF/VtUr1ln25R9q3DHEM1rcYPkoz2GQd2hGmNOStsATtiu4cUfr7/1L5Uc/ddGxDPp1tnHeZozY8EzXTE1N+frrTbnnDUtesItnrD9hkCK50vP8s2J2/Wcc5nSvNJ6CfFKk9fND6ART3ipFi2BW1evoiVjqdbCqestnlynFBWouUz/HKfIly6v1rHHV100RcemvEZ40XzIntnOcl3oRAQQQVLa7o7JZtLm6LnhhUsoqtess23K/l/hERM0T1en6gfvaQ4AJ6UNACdsp/Di929edn5h9fA8D26dfZynmBk1qWmR9qRZS5k2fJbmVC5awJRBqX5iKzRn2IKWJeUs3hCIVlDtn/Ne3VzPOmn+ldaFO8rJnzUdT+R5XP+gTZ1O2erVwjXMW1I5fZTpkhXKaDWtXwMEF5KHCwUXlTZugok4qQOO/Ip81XmtbH7P1tcVvHYWST5j3oZyXejEgHEhErFm54zNpM3RjcLVjGrwogdtTp3N+aPwqO1UvOhU9bI3I783C50kACdlfXgR/9zFicQW4pm0P/vE82u+fvuhvCPl2+hM5V5rO+oJvRDVm1I8pndmedezSFp0pc3CvbhG63m1zpd/rSI6xMFQTgcWRbmGRUuqDZvLm2per0/ao2I7ry7Eh6eNrI9c5/pdka+6rtXmoEl5zzavy7x2Fkk+Y9E414VuCy8itXPGZtLm6FuFqyWbzR7m1NmcPwqP2nqz5tQoqp+/kwTgpKwML/79j7/6+xY/f/7BicQW4pm0P/sUq4vEE7NmzOKdfHOmm5rK/WQvWu10lnzFFSflE3pTvPfuyEvuzPKuZ5609EqbhTtAUVShn1WCftay5KSC6ql2KN6U5KW5hnVLikpWDZVBqfG2oM7pEnSWtN3iY9PGTZ3Fj8teUyNaEtc2P9fSnu1cl9u5SPIZ85aR60InBkx01sC3FxFbqH+LkzZLaNbZNsU0wot8vOWcytsL4A2zOLxQMOHfE9EfBRlp72nwPNiffTwtxooYi43Xy0KsK2l7Y2oq9wStFaieRuMsxcRdq1e7nBfamIilM8u7npG04kqbhUdOFehYLa/PFC3JvjRdQto13ZIFnSheuuRfPdH+ra8uxAemjQ2XpgNVK/+QEjZ81XmtlvZs57q8dhZJPmPRzteFToyEiEHTdveMjimLpM3R/6tz9GmzK5slNOtsm5L+V/jq7154s9BJAnBSloUXv339lb9s8f3Hbx/3X9Bq8iTbmX1iGo3n3ZjLmnNfrGppe2NqKnfO5oTrZViaZwle7fIFuOBPIiI2ks4s73pG0oornSrcUY4uyutuLLr6QTVUavF8b66PpO2qJbWMaQmPrsk1K+/Dm/lzPjBtbMQw8AXqvClhwzujVrLJu6Bni+vK+UKKJJ+xKP+60OobvubOyoeBz5jvCWpSJRVnvC46q7MPF28WmiU062ybkm41iAdM0c7mU+dj3k0kafu2ThKAk7IgvIgPRH767P3T+UAk158l9ZzkaS6fKOPhqX5MjJVD0q4Nn6WYbWVqDo3zSj7n1vxU2lxRLKoU63dnlnc9I2nFlU4VHsub/i7ehXgpal6CH4IlbVctGcXWLwkiIIgGVB61qk7nzQ4fmDZuRI+IWibt3fBV5/27tGeL68p57SySfMaina8L3Sjip+jH/E1DLMlFYBfvOYozemfUObLVLe9OkTl1NuevG0RtVVTPnaikvJy4lrR9WycJwEmZFV4omFBIocDiu4/e+u+//p72nh7PYvXsoxk51jZNZ8Uc6hVR+2Pd1SToopwk3m/N+V1iItZ+n0J/a21QyVFOPufWvGDXy39QgS4nTt2Z5X0JedLSK50qPBYAKRa/iAMUdsTFxlkkX6S9M9YtZfNio3ZQOUUber9zio8tzt6kbJI2bsR40IWnXTd81VErWdqzxXXl3HRFks9YtPN1oZucTvJ5oyl0Xu8JromayDVRY/oaXUJxRu2RvIO8R4dHsKUf/LbMJRclOCJRZfILt+uCbjeIqhrVjrGnH6LO+bW4iSRt39ZJAnBSZoUX8T+Wbf2Tf2LS3LlXntY78tkzaI/nvoIyx2KZst7wlB0882qK1CFpV0aFR0RSz8XBU7wyp+0JxecjrkmxMplbI09aeqWdwr0wqLRikRMtgZuSGlRgnt81dOvZVA1FZ4y+83KlPd7s8+Fp40b0SH11vuq8Vkt7tr6u4LWzSPIZi5pcF7op1qk5nzfluxE9mFNg1DyjU/M6T/WaSmhejrvAeSzq7828cJnqWTVscS2usKTt2zpJAE7KfQkvNDl2nnQ1wWkajelPU55fD8RTnbMFza3K7yVWYubVfj0yxn79oE3tVJJ3FnNuzo+DKjZtT4hlQHXTpteeYmUyt0aRtOhKO4X7yXiqtj5LtINOp6iobn/XsF63VHi+nCtDvDYwH9jp0JwLSRsZV8/NmPNVN2s1s2eb12VeO4skn7FoZ+0RF6skn0UtqYbNmyKnzI4+RQ3oAptndJ68zqIAJQ4X/aw92u8hV1+Oell5YixF/b1ZFC5FG3rs1dfiCkvavq2TBOCkLPtqJ2AOL7z8HJgWJC1pWqXS9hvK62i9SAPAnUB4gcW8wEvaPiy/G5j56uLuIrwAcKcRXmCZq6urx5uvOhYv8w/jnry6EMILAHca4QVmiU/E7WHr10cPwN8D8PdF3mxuZ8ILAHcU4QVmifDiQffbhft2dnamChzr7Ifk1ia8AHBHEV4AAIDBCC8AAMBghBcAAGAwwgsAADAY4QUAABiM8AIAAAxGeAEAAAYjvAAAAIMRXgAAgMEILwAAwGCEFwAAYDDCCwAAMBjhBQAAGIzwAgAADEZ4AQAABiO8AAAAgxFeAACAwQgvAADAYIQXAABgMMILAAAwGOEFAAAYjPACAAAMRngBAAAGI7wAAACDEV4AAIDBCC8AAMBghBcAAGAwwgsAADAY4QUAABiM8AIAAAxGeAEAAAYjvAAAAIMRXgAAgMEILwAAwGCEFwAAYLA3JLx49OjRuzMoWzpgBJ90lzKfPn3qiqVtAADeCMvCiz9ef/vLlx/++Ol7r//yJ//Rz9qj/SnHkRBeAABwOhaEF//559++++itCCzyP9r/29dfpXwn4MWLF1629UPaBQAADmVuePHff/3dkcQPn7yjn73z929eRsyhv7Xp/UdHeCGXl5cPHz5UI4x9ZwMAwFazwos/Xn/rGOKnz95PuzK/ff2VU3/+/IO069gIL+Ts7MyNQHgBADiwWeGFAgiFDt9//PbUdyz8bQz9nbaPrRNe+OsO+ls/P3v2zGuwN02HnJ+fx9osWp4vLi5ScsbfvciPFR/in5Xkch48ePD48eOrqyvvD65Msfy7WNf8+fPnfgMhqtVUtPTq1asnT55EnXWITqcfVL6SUiYAAA5l2Vc7p9zF8ELrsfOINp3qVbmpfgfQCS+0qEdYEBRkXF5epnwbrsxUeNGsjEKilO+GylTJKfm2lAMAgMMaEF7EhyP//sdf065j2xpeeAlXBPD8+fOUcJMk+iHeNOiH2F8s7Z3wQrGLlnzl98sDVcOvFopIIiqTtjdcrKOfqIn+9n4Vm7+Q0M+OLXw679QP3qlCvAcAgEPaKbzIv9r5wyfvpL0nYGt4IYot0q4b/nyh+TmIXyTo77S90QkvpHhREVXKg4NOeCFFTSKSyEMi5XHm4nSKMLw/Px0AAIexOLz45csPFUzkfxRenMI/fZGbE17U34To8GrdjAOa4UURiJiDg7xKnfBCgU7azpyfnyspP6NLqEMl0X6pWwAAgH0bE178/PkHp/NbqbI1vGgu3h0ucH54kb9gCM4/M7xofq7h/PkZvYfwAgBwUgZ8OPLDJ+84yNDPKeHYtoYXxYqe0yFa2r3G11KmDefJF3txtuai7vx5UrMyzWLN+fOk+BBk6rOYRS9pAAAYYsBXO+Xnzz9whHEi7zBica2X+eaKHjq/OWIp38YphBfiX1E5OzuLVybx1c7z83PvAQDgkMaEF3+8/tYflJzIL4+sCy/8yxpO1VKdfykyCkzbG804wNkOGV5cXV05mCgo7OB7nQCAoxgTXojDi1++/DBtH9WK8EIrsQ9pPvEr2nBq2t44hfBCsYV/5VXBhF9j+Ofm778AAHAYs8KLf//jrz988k7nqxXx9uLuhhedQyQ+NEnbG6cQXrhi/PsWAICTMiu88D/K2flqhb97oT9397sXl5eXPqT+pY/4+qSkXRunEF44c+ffCwcA4PBmhRfx73Lq71++/DD+7/U/Xn/733/9/afP3nds8cvFn73/6FaEF+JPGR48eBARxtXNP9npJPF+a8YBznaw8CI+tampnMePHxN2AAAOb+53LxRS+BdQp/7UH4tE0q8vv0i7DmVdeDH1n3c83Pzb4f45Zd1oxgHOdrDw4tWrV87vv5ueVf9NCQAAe7Xsq51+V/H9x29H6PDjp+/9cvHn5mcikeeuhBeiCENP/BFkxHckr66uvMfZrBkHONthwgvFFv46Z/N02ulvZuhy+BUSAMAhLQsvcFKa/1R5QRmkGX8AALAnhBd3mF9mnJ2dTb2ciN+2Lf5NTwAA9orw4g57cfMZkCKMZ8+e5f/+t5IuLi78KY9S014AAA6C8OJui39pdIpiC15dAAAOjPDizvNXOOOf7DRtnp+f8zsjAICjILwAAACDEV4AAIDBCC8AAMBghBcAAGAwwgsAADAY4QUAABiM8AIAAAxGeAEAAAYjvAAAAIMRXgAAgMEILwAAwGCEFwAAYDDCCwAAMBjhBQAAGIzwAgAADEZ4AQAABiO8AAAAgxFeAACAwQgvAADAYIQXAABgMMILAAAwGOEFAAAYjPACAAAMRngBAAAGI7wAAACDEV4AAIDBCC8AAMBghBcAAGAwwgsAADAY4QUAABiM8AIAAAxGeAEAAAYjvAAAAIMRXgAAgMEILwAAwGBvSHhxfn7+7rvvPnz4MG1PcLZnz56l7dkePXqkA58+fZq2N7Sn3jnFJejvtD2U6uDKpG0AAI5qp/Di929efvfRW6//8qcfP30v7ToSRQxeX6+urtKuyqtXr5xHP6Rds51CeHF5eXl2dqZC0naG8AIAcFJ2Ci8UVSi2OIXwQlGF19eLi4u0q+IQ5Pz8PG0v0QwvFtk9vHjx4sX1FRJDAABO3vrw4t//+KsCi58//+AUwgt5+PChlt7O5yOrPxkRwgsAAOZbGV789vVXiip++fJD/TmR8OLi4sKr79TnI05d8cmIEF4AADDfyvDih0/e+f7jt/94/a0/HzmF8CI+H2m+n3j+/LmSitVdC/b5+bm/0GDK0Px4pRle+BAVkrZvuFinqnAdpZhmKrxQtR8/fuxXL6afnzx5kodBPrYWp9YptFkXLsqj8h88eOBDVDE1RUrL+BQuUBmiPspfXyAAAH1rwotfLv6skOLXl1/o59MJL8SLolbEtJ3REqukPHTwnqZ6nfbqOye8iC+Z5lQx160ouZnZFBBEhOGz17aGF/FGp6BrTzlu+BSORZwnt+4TJQDAvbU4vFBUcf2xyMWfvXlS4YUe+r0c1p+A+PE9Pjfxeiz6IXbqh9hfLKgzwwv97J3Kf3l5qT15mZJHAJFZ8ZAzi2quU7u2RRAQ+dN2xqcowouIXVSOr1F/x2uV4lp8gW5AJUV+789jHQAAtloWXvzx+tvvP37bH4t4z0mFF1qkr1fOKjjwJyMPs299ah09Oztrfg7ix/diafcquzW8cLb8RJaHHWnXZvlXzua7FkcGqmHa3lgUXigacIyiK027bjizOIYw11yKNolymh+pAADQtCy88O+J/Pdff0/bJxZeiL9IUazZjhiawUTNS3u+VItX3354EcFNcyVufjgyRQu/i0rbG4vCi/hYpPnWwRFD3iC+wCKgMb/wKK4dAICOBeGFogpFEj999n7a3ji18MKv97V8pu0NxxzxAUSfV/EV4UWs6N4suISi2I66qEXhhWOCqdPVqa5e/apDXDjhBQBgvrnhxR+vv/3uo7f0Jz4WsVMLL2INjlcIfqnQfC5XZi2oXllrKdOG8/TDCy/D9Scj5hLyFd2uNl/O0H6/UShE4bIovPDpmuGCOH8ehDl/cYHmzM0kAACa5oYXDiPyj0Xs1MIL8TodX57w+4x6ofUnJh0p30Zz9XW2iAB8onyNz7mEIjW+fTllx/BiKiZwfknbhBcAgKFmhRf+BzqbMcQJhheOG+LRvPnJiEMB0bL6/Pnz/AsKzVW8ufo6W0QAXobnv73wF05FNVSckX/RUpy0Y3jB2wsAwFFsDy/i/y2b+ScddjyxbCukaH4yomDCGZq/tRGHp+2N5urrbEV4Id4suIQ8AvCXPVW3+tuXUcPV4cW67140YwgX3kwCAKBpe3jhf+hi/p902FH58xE9u/vrlsVDfKzT+eId4kOTtL3RXH2dLQpxKCPxtY9c/ZsjztxctuNDk9XhRec3R7TH7VP/5kizMi68mQQAQNPc715MOcEPR8RP52dnZ17Ui/W+EwfkX4ZIuzbmhBfiD2LyZd6i2DwpYqC0fUPVc5KsDi8ihqjLd2al5pEH4QUAYKA3M7zIowSto2lvxnGAkiLC8G9waKeTxPttZngRH6wovvF3KaJYyyOAeE1ycXHhlV5/q+aqVdQhL1wcMejAPDIQnyIvXOK8ijCiMvrZO3UiZzPCCwDAQHsML/xZif74fyc5JK2+mzX0mhbjtDeTvyHIPXz4MEKElHVjZngheWQTdK766w6qpF+uFJQ53q8UhUfEEPL9RXghEcEU6liB8AIAMNCbGV6Il3OpPwExLeFafSPI0Erv7yLoEd97nM3mhxeiPXH2s7MznSXeYRQRgCKMJ5t/njwya9NvJryzLlzl5EFJ7NTPdXghuvyojC5WlanLFMILAMBAu4YXAAAABcILAAAwGOEFAAAYjPACAAAMRngBAAAGI7wAAACDEV4AAIDBCC8AAMBghBcAAGAwwgsAADAY4QUAABiM8AIAAAxGeAEAAAYjvAAAAIMRXgAAgMEILwAAwGCEFwAAYDDCCwAAMBjhBQAAGIzwAgAADEZ4AQAABiO8AAAAgxFeAACAwQgvAADAYIQXAABgMMILAAAwGOEFAAAYjPACAAAMRngBAAAGI7wAAACDEV4AAIDBCC8AAMBghBcAAGAwwgsAADAY4QUAABiM8AIAAAxGeAEAAAYjvAAAAIMRXgAAgMEILwAAwGBvVHjx9OnTdzfS9p316NEjXYUuJ20fw4sXL96MxjxZbt68l+e3uYe6xknaxrRoVf2QdnWdwt031tIWqM0fmUCYG178+vKL13/5U//P79+8TLmPhPBioN0nlMvLy7Ozs11KmOPZs2dqrgcPHri2Dx8+fPz48dXVVUo+tidPnqhWza50hfOk+W3uoU54MUdzcdWw0ZhpNiDhRW3+yATCyPAiZT0ez7lvwD3wZoQX+56SInxp0vqR8h3Voq6c32KEFzvqNCDhRW3f9zLeSHPDi1++/FABhP5O2yfJU8YbcA8QXmx1dXXlNxb6W5HEq1evtFN/P3/+/OHDhz6vfnbmIyK8OE2dBiS8qO31Xsaball48e9//DVtnyRPGW/APUB4sZWb6OzszIFFTnscYSg17TqeRV05v8U6qyPm6DTgKdx9Y8W40g9p10J7vZfxploWXvz68ou0fZI8Zcy/B/QE/OTJk3jBrjXp4uIipVVmZnYdPDflT9L6Yf7r+nyCyws5Pz+fmiC0X6n5hwUqpHM5/sqCc+qo+vsKnQlFJ9J+HZK2K1Fyoai86uCi5MGDByrw8vIypXUpgHBfTLXG/JHQucxmki/N5+10TRxb0OEpx813L5pHpe1pvkCXpkaLZuwMM/WvWjgqLPpZzVjHZ0vHsFP1g4rSKeKtUj6o9IOzNbtYByq/OjRt36ZUH1sMUe+vj/K5VFtvFq3qn2tOFXfxoruvFuNElVRRvjF1jfpZe5xHqc4m/cLn3yn56cTFijebp9g6FUiUkLaBGWaHFxd/fsPCC90wngcLmk3i/g/zM7sO+ls3rfPkdOumfF0xwbm0Qj3Fq9iUVlFRKVOmmV8XmM9ZUxOKv6sYc3dTzFaFmN3UaFN1bi5gS0W7pe1pnXmzmeRLU1Kz/lH5OLaQd4f3RJtIpzIFX6BKa55IfZTy3WiORlO/7ziGvV+FxEoc8kHl1Lpu4hM1k8zNXoTLWvuvz1GFLEVpRav655pTxefS5bsdCjppytflQvLoJPjeabZtXfiiO6XZBRIl5INNpvKr14rC549MIMwNL3789D2HF/rz8+cffP/x29rUnx8+eeeXLz/84/W3Kd9RxXSQtqdpPnK4oLvLc5PutDg8XwNkUWbv9+SiRwc/B+jvePioJ4WaD/ffmiVdiO7wmAvyaSJqoh/isUM/xP7ijHl+XYj26KJcPT27eI80JxTPiXm2js6UFPOdFgwXNXV1K6hAF6WLSrumdSrZTIpO0d/R4Prb++ul2vuVM21ntF/yi+1UpuBO1GXqjDqFh6Wq0VxIolg1iHOK6qne9MAuIgYX7prPGcPeqfwqLZKicI0W71Ff55s5lxx1q/nYokPdC1KEHS4tWqDZqnGNaTvjC/ffcfepbh5UdRc3+XBdrDho0FFR4Ti7C1cNo/DN0f+z6E7xSVVIZC7imyJ/nFSd5fwxFWin62bNNgT6loUXEVUUf7776K3fvv4qZT0e37Rz7gHfh7q70vaNuIvyCXRR5qhDMWVL3Pxpe5pzikpLuzY0Behw7VeGtGszyWoKK2ZY89yU1yRK0FFp1w0Vov1xLfWEoqlHx0pnGchNTUmxv35W84WrJml7IV1dzKeqZz4/TpmqpDSTomuKBo+GLS7K+Yt+tE0xO4UXUg9L92Pev+pTZSvWZlOSMhcNvnQMO3M9MOJy3FbqDm8W2dR02llfSE6H+Ni0veGOlvx2EHdE2phoVV9jcaBFFxf3SNS/Hre1aKhiEHrxlqI74gKb42HOnbI1s+SFuwXqXhNXMu/9ZhsCfcvCC/3RD//559/8ukJ/62fFFicSYcS0mLYnxJ3cnCZ8a8XNvyizRB00aaZdN/pF5eq5I3TKr3nxUGlp++YpsHm4kjRfx6pZTCjK73Urj6X6pqYkN1pzOYkmqqe8KXGWnGbGObGFdObNZlKna3xd6qC0veH8xU67Lnrn8KJuKD8i553eEUtm2t5YOoa9pw5YpehrBwRFTo/SIlyrefjFeV1zly9RVbdhfks2W9XX2Gwld1kRQpnr3+zNggup28QXK3XH+QLz8bDoTulkVqM5c164T9fstSi8aFXxJjDHgu9efP/x2z9//kHazijI8FuNHz55J+06kpgW0/aEWGLT9m1F6qLM0pm2xM9VW6enqblJ4j7PZ4opzpxXxnPQVPVyxYTSqdKUqSmp3wgzmyjEWXK6zDntI1OVlGZSpx3c9UXNnb95OddF7xZeNKMcJ83pYtuc8NYZ+yXUHbQpoD0gixuk+bLETbQ1HFSbK1u0fAQlHtIR9bry2u9NabZq5xpdn/rNjTgpv/YpUzldmWbs4kPyZlx0p3QyRwtE4RFA5KfLFalRgjeBOeaGF33//dff/W7juC8wdGvNuQecrRnmS9xIfixYlFmcvzltiWcQTYhpe0J/Frs+X/W0p5po5vWBtZTppuQ5UUI+oXhml6nrapqakrxz6hXOzCZq0sOWivV6I0svs9BM6nSNu75I6uS/Lvr2/N6pTMHnanbHVJLWbyVpv9ehQl6NTuHiK8o7aFNAe6GKK/INog7KN8UvIabOlfMjeIQmWv5djiOYiAb8giHKl2ardq7RF6gMaTvTSSpM5XRlZp5XmzLzTulkjhaIPoo9fTHJNNsQ6BsTXojDi+P+u1ueMrbeA87WvMOluBUXZZZ+fs8IU6nB2fKJJnd9vtupnmo7Ur5tJefi0vyYqFnby/bUZFeLEtL2De+MFivMbKK+eAW9tbZTlZRmUqcB3fVFUif/ddG326FTmYLP1WylZlI0yJS8Gp3CxVeUp24KaHdoXFGkehRF5OfgIN499G1KSu85FGc41HCA4vcBDl8iBLFmq3au0RfY7LJOUmEqpysz87zalGbDivO7qIjbmpmjBSI19vRFZSK/N4E57m948ca8vchfLWg1jY9LpZ4UXPKix3rR3K1J3PN4MXd3TE1J3jnzmWw1P8VuLWeqktJM6nSNu75I6uS/Lvr2etCpTMHnUuFpO1Mnqak3pV73nRZy9WNK2HBSXo1O4eIryht2U8CWhS1uEAc6jgbE3ZQP2g6HJhr5Kk0/1G8sfKXF5xrNVu1coy+w2WWdpMJUTldm5nm1KTPvlE7maIHoo2abdCzND8iY8OKP1986vDjuP+vpKWPrPeAHpqlsReqizOI6TIUjnc9Hc51ZzBOreKaIp5bmOhrrStq+Kbk5uxViQpGYlfyaZGv9bWpK6jfCzCbaauaVdubNuvWk0zXaWSd18l8XfXtV7lSm4HM1r65O8uqr2KJexZtPvS5h/hjeFNBe2OobJM6o/A5Yt4aAwaGJ8rvYeOfhCFt/e3wW70KardppwE6XdZIKUzldmZnnXXSn6OepzNEC0csxjUTY19dsQ6BvVnjx33/9/afP3u+8mfjPP//m8OJOfPcibq3mhOibPKa8RZkl6lA8I4onU2kWlXOxxUOYFfN1PXHkPNtK2s4Or1caJWkFiukpSs4nax2lSU3qw2tTU5KaSzubq1cc0p/11IAqpNk+wWtqcx7PxRnrK6pbT+o1ILjri6RO/uuiDxJebIps18ELtuTVcAkycwx7T7M73IZFX3sAKMlhwdbbIcTZXUJUz+2ms2gA5/ut2aqdBux0WSepMJXTlZl53kV3SiezWtiZ8152dKK7Pm1ndC+oJVWfuCmabQj0zQovInpQnJF2ZRRS+HdTf/z0vbTrSDxlzLkHfCfXt2LcRfl9uChz1EH5ixXL97/u6rQ9zWdUzmKV9W2vpJjKO9FPrBySdmUTdDHxRckRTExNKL7A5lpSmCoh9td19oXr77Q9IRp5amWKa89joynNnNGwknZtuIZF65lrVSR18l8XfZDwwgtJ/YmYrtFJklfDJcjMMezMMtWGxRrm3lEhGnJFUVupSi6zuB/jQjr3adre6DRgp8s6SYWpnK7MzPNGzefcKTHm864U9WA0Wt3L6oKii8VBoZLS9pKRCYS5H4788Mk7jjB+ufhzvKL4/ZuXv3z5Yfy7F9r0/mPxDTPnHoi7Rfenl3DdY5oEPUkVa+eizK6D7mel6m/fz1rUPS9L83Gh4LlDVIhmDd//KsrThHbmz2cOC7Qz5iClxtxxXcrtBvEjoyiPS9ZFueQ5E4oO8YUXz4hNzqkm8omCL1Cpao2oQ+x0I3fokJgxVbgb2fRzXKDypL1dnkx1Xq+OKtydG73gbOadarq0nXGbF0kqSjtVWl5Juy76IOGFL1CitfW3Lla1ihGSV8MlqPWUQX87qTOGvTNaxqdw+dqjU3hP0KaTpLh9torOLaKluMY6imq2qsaYdxbXIp0u7iQVpnK6MnnvhOYh3qnmir7r3Cm+KbTfI1k0J8SdInkvq7SYOmKSUYHRy3nmZhsCfXPDiz9ef/vz5x84wqj/KPioY4tIPdj/VKI70/fAlPyu1h2V9t6mu6uYDWV+ZtdBJ4obMjdzMtXhuvObJ63nFG1qZ0rOaFrR5OKfU9Ybnp4KRcmdCcUVyxtzSt0j3q9Gy2e9oDpMvZAoqISYB5ua/dikhbNuQFVPh/vnlG/DTVcvG+KLLZJUSFF4ZPDmuknc52p2QZ3UaW31uH/OqxElzBzD3q/MbpxcMahCRAP5eeeIKhXjJG6WevzEIWn7RlHbaDHvL/rROkmFqZyuTJwr1zyk03f1lU5lnmptdc1U4WrPlGljqg2BjmVf7Sz+w5HvPnrrp8/e/88//5aSbzvx8EJ0d+nGi9lfC1JxU+VmZnYdfCIdEkugbuOZC6focM8yuqtVgk+qv1WB5juDom46l5/JlNl7nC2nysfMolBGz3yam1LaRn9C8XNPMVs16ULyKSzt3VAlizrMeSOS84Xn5etn7ZlTsZzOGw2omuhnt4bLdB5rrgHmrq+TPAyidyKDN/Oq9ts853MV49maSbocNa97TfIer7syL2HOGHaqS9CxLtDDtRhUQeUoj3Km7SXckkXJ2ryuRKvpplpVh6iG0SbRYp0u7iQVpnK6MnGuXKfw+XeKLiq6QFSmpylv5r1szp8XrjapC59qQ6BjWXiBrXSv6iZsTh/AnbB0DG/WnVmxZnB4oWUybQN44xBeDEZ4gbvuAOGFCtchl9u+ZAPg7iK8GIzwAnfdXsOLV5tvzi4qH8BdRHgxGOEF7ro9hRfOZg8mvvIJ4I1BeDEY4QXuun2HF+fn58QWwBuP8AIAAAxGeAEAAAYjvAAAAIMRXgAAgMEILwAAwGCEFwAAYDDCCwAAMBjhBQAAGIzwAgAADEZ4AQAABiO8AAAAgxFeAACAwQgvAADAYIQXAABgMMILAAAwGOEFAAAYjPACAAAMRngBAAAGI7wAAACDEV4AAIDBCC8AAMBghBcAAGAwwgsAADAY4QUAABiM8AIAAAxGeAEAAAYjvAAAAIMRXgAAgMEILwAAwGCEFwAAYDDCCwAAMBjhBQAAGIzwAgAADEZ4AQAABnujwot3N54+fZq2K0rqZ7hXHj16pNbQ32l7OZcwpz13P9ddocuc2SZ7dX8aHMBpWhxe/P7Ny18u/vzDJ++8/suf9Oe7j9766bP3//PPv6Xko9o6sxNe5HZfgVwC4UVOlzmzTXb37NmzBw8eNFv1/jQ4gNO0LLxQGKF4woFF8efnzz9ImY5n68xOeJHbfQVyCbRn7noIHqpNPJ6JIQCcoAXhxX//9XdHEj988o5+9k6/zPB+/eCdx7J1Zvd0zHJohBf7cD0ECS8A3Htzw4s/Xn/7/cdvK4b48dP30q7Mv//xV0cYijbSrmPYOrN7OmY5NMKLfbgegoQXAO69ueGFA4jvPnpLcUbaddsPn7zz02fv//ryi7R9DFtndk/HRYYXL16cn58/ePDAhz98+PDJkydXV1cp+bZXr17pcOWJzNrUzpTcpRPpEC8GPqkL0R5tOo+K0tnPzs60X393ClcNI6eoJhcXFymtkp8uinVw0FycVPjjx4+jcOV59uxZSsu4hKI9m+qceWuoMjqdu6B/1YW8kMvLy/oanS24GjpKScrgM0bji36OmogKfP78eUqrqE3ykeAm8mbRJt6ZnyhMJfW7wDtrKbnbNSonGkpXqrOo6VJaxhn8s8pxTZx/6u4AgDA3vPB3OU/hCxYdnhCbU6opqcjgPTVNo/Wcqz2x8OQ08zYn6IKWEGX2OuEDc1rGtObFchW0Jx2fUVHNmihzvaY2T6ecoh+8Nuea+UU5i8I7a1ihzhmt0WzV5oXUlhbiaugoX7tp06mKz9Ku27SgOkNOO1NyJnYWbeKdcaJcM2lqpEVN0nbFqdLsGrVGs9qSxy7m/TokbytT3eYMeAD32azw4vdvXvqzj+O+nNjKc19ntVNSnsGLk+hhLqZLLfOeTzWH5ouTntg84ys1nmgjs/72ng6fzk+B8YJEO71Hf2vq1yn8EkKndm2leC0Ra49O6mrnmbWuOJvFNXoN1h6dNzJLkV9X5P3RJipca4/PqGo7mzXXsKY6pyum/boKiSbVxfpcc4p1ITpch+hvbWpn3hqxHpur4b/zTpcIqnSIu0Z/x1N+UZkoP/pRRUVmKfJ7p6tXqJNU/+jfuKLognwwuBq6nLSdqRtcIrZQISpTe1S+zuKdRfW8Uxeo8+rskd/DtXlSAAizwgtFFQ4vYvPnzz+IXyG5u7+Y6k1Nl94Mmkm1UxNoPuF6vtZc7Hk2OLOS6ue/gkpTNikWaa1M3i/5gidesYqpPGqStm9E+XlNtmbOC9e1eA0rVmWJSno1NRfeafBQ54wKqPWKJnW/1HWuRSF1v7gQyZvU1ZCiC+LCi/0S5cSFz8mcX6l4p2qbtjN1kgvRKfKmFgdA+XB1zrwHQ6fBI5ILzlzcCM4sxZiMcooGB4DcrPDily8/VBiheOL655vfEyn+/Pjpe1NfyzgYz3rFzJ7zdBwZvFnMqk2a6DdlN6Zm0bOgkrYuh5152QGKgom0fcMrSr5+xDLfrInDkSinn1kVVlJeuE8nzZXDhedrar2GTemsdnVYFtVO29M6S6bUQUBzHRX3oDQv3OXEa4NOZu1xUtEm3qnapu1MnTQVu4hqrkuI83oA5z0Y6gZ39zVHaTR4Hkl4Tx1oimvYvBwAsAXhhQIIf8FTP8Qvpv729Vc/f/5BRBjeeSyeEDurnafjyBCrqWbe/lwZK0ravi0WubQ9oZPNi0EsYMGH5OtHvyZFaj+zT5oX7hUo35OrFzOX0GnwUOeM1miu6E5KG9P6LV9fjqtRL5n9Cy9S+5mVJEWbeKdqm7YzRVKs9M3MhbpHgq80r4ZjgqnOqlO1Kc24zYXPqSGAe2tBePHDJ+9899FbijDS3sx//vk3RxjH/ZTEE+LUBCqejvMMfoIP2tRTo8KOYs3zgVvlD3+1zlo4NV/Xh7gmU29KIr9r0s/sk+aLk/f0aR1KuVtr2JQ6Z6c1pJOU6xfiy59TYe9vvjCQopx+ZiVJcQrvrPtXiqS4ombUVXDFVJ+0namvdFNqO1wQ51fklLa7dXbmZhIA2ILwov9+wu8wfvrs/bR9DP3nM/F0nGfQJK5NfzaRU1F5Nh+4VX/CjZUjbWem5uv6ENekuaJI5HdRWgI7mX3SPNV7tkq5b/LnDTWlztlpDekk5fqFRK+l7ekK9y+kKMch6VRm5yxSvdOdUiiS+ldUcMVU+bSdqa9oU+rkEHX+vKhOfmeeKgoAZNlXOzsvJ+IDlLR9DPWUWvB03MxwdXX17NkzrccuxCKnD8wn3xU6K8fUfF0f4prs9e1Fs32a5uevc3ZaQzpJuX4hvnzeXtimVN5eADiQWeHFH6+/dXgRX7monU54kU+RBWeYmmGDQg0/ocaK4i8x5AvVCrFypO3M1HxdH7LouxdefmKz4JPq77R9862CTgMWXEKxlDbVOTutIZ2kXBTSXIx9OfkFTlW4zpkrUl3IVGYlSXEK76z7V9UukuKK6sw192+zJq5kXg2N3mJPrk7VpjSr4cLn1BDAvTUrvJCfPntf0UPnn9VSYNHPcAD+tf6ph3XxHOrf99PMrmVDe4pf/zNP3OLN+MJd89sVmmfPNv9qRdqeECtH2s5Mzdf1IVGTznfuIj7oZ3YIlS9O/ShKbaJDlCdtt9awKXXOTmtIJykXhdS/fiL+zCt/zTBV4QjL6jBFezxs4sL7mZ1UnMI7616ILxfnXe/TNd+OKEmXECNWZ1HOvAdDfaUOkpp3RzRjPry9J69YcOHNJACwueFF//OR+Grncf/dLU3fnhObi43n4vyXEr38NMMCTe6bkv63wnlKjZU7aEXxOn2Y8EKcuV4nInNejq9Rh6TtG7Gw5Un1Uhq08Dgpb1vXpF6ta3XOTmtIJykXhahuReQXQUC+f6rCceH1ou5ho9QIJrS6X5fbKscBbp3k8xYjRAW6dyTvMheSn9F8RfkAdt3yHgydBq+jHGcuynHmvGLB+ZtJAGBzwwuJL3j+/PkHv339lXfmv5h69P8xVbzSiybWWFf0Q8z7+dwa4YiChpgrtXh41pZ8sVEh3qlTRCH6wWesF4NazO9pOzM1XzcPiZ06yteoU2vt8QJZrGH5NfqpN79AKRaVWJWVPwpXSOHCi8yudr6GTalzdlpDOkm5vClUQ4c+qnBcYBEOdioch6jTo6EiyiwC1tivo9zvaiudyzulOEUEc5Ff/aJAQXX2+Mm7Xud1ayvJ+92/mwJu1STGpFLTrhvNK/VOFa78Ue3Y6e4O1+USXgBYa0F4IRFh1H/q2CKSDvlKQ1NkPBEWYvnJxbxf0xzqKThoSfC8X9AZi6m5KdbCtJ2Zmq+nDpmqtla4os7SzKwL8XKoU6d8N2KhLdQN4moXa1hTnbPTGtJJykUhqljdNVqeF1U4YtBCM38zs84o+qE+xPtzXtFdpaLrp0ZaETuKDw/azPcX1VBr1NUQnUtnTJluOKkek9KsMwDkloUX8vs3L3/+/AP/5+z6ox+02QwgjhJeiOZQPZzl066m1HgkrWmK16wdQYnX3ToQMRWSZ1bJmsGLNWxKZ0Gdmq87h7jasQh16iwqJ56tVXkdqAtRzbUZC1LO+aNw5WkW7mo3V99CnbNzadJJyuWFqBeiQXSNzVptrbBW2WgoFaUCdYqUVlGbxGodI2HqFErSTo8cjzGHpM5fn8UjLe/fOgIQX3UMSJXm/Z0r1d0R1daBU7eGMzQvf6rOABAWhxfA6cjDCwDA6SC8wB1GeAEAp4nwAncY4QUAnCbCC9xhhBcAcJoIL3CHEV4AwGkivAAAAIMRXgAAgMEILwAAwGCEFwAAYDDCCwAAMBjhBQAAGIzwAgAADEZ4AQAABiO8AAAAgxFeAACAwQgvAADAYIQXAABgMMILAAAwGOEFAAAYjPACAAAM9X//9/8BxnXhvlu6gfYAAAAASUVORK5CYII=)"
      ]
    },
    {
      "cell_type": "markdown",
      "metadata": {
        "id": "oaoQmknJFdLL"
      },
      "source": [
        "\n",
        "---\n",
        "\n",
        "###Problem Definition\n"
      ]
    },
    {
      "cell_type": "markdown",
      "metadata": {
        "id": "rQVWopn6yxMU"
      },
      "source": [
        "Calculate alpha and beta diversity across the samples."
      ]
    },
    {
      "cell_type": "markdown",
      "metadata": {
        "id": "ELQD4DppH7GF"
      },
      "source": [
        "\n",
        "\n",
        "---\n",
        "\n",
        "### Data Analysis/Preprocessing\n"
      ]
    },
    {
      "cell_type": "markdown",
      "metadata": {
        "id": "kfpLQ2S1y1KY"
      },
      "source": [
        "The first step we need to take is to look at our data. In the first cell you ran, you cloned a GitHub repo which contained the `car_data.csv` file. A few rows of this file are shown below."
      ]
    },
    {
      "cell_type": "code",
      "metadata": {
        "id": "AwgHuD2TIPkr",
        "colab": {
          "base_uri": "https://localhost:8080/",
          "height": 574
        },
        "outputId": "45bef107-58bd-4b6d-c15b-2bdf58c69b5d"
      },
      "source": [
        "data = pd.read_csv('./Tutorials/MLTutorial/taxonomy.csv')\n",
        "data"
      ],
      "execution_count": null,
      "outputs": [
        {
          "output_type": "execute_result",
          "data": {
            "text/plain": [
              "                            Feature_ID   Result  \\\n",
              "0     a20f500706b0005fe884f0ecf17a8d8c  perfect   \n",
              "1     8e2326d224a3adc2221c2c1932ab7c6b  perfect   \n",
              "2     fca661a60cfccd85f8f8ce0970e5960d  perfect   \n",
              "3     26224096c4e323245382bff89c608796  perfect   \n",
              "4     89314f2de8555c64042a0774d1e71967  perfect   \n",
              "...                                ...      ...   \n",
              "4589  897f7d3e6299c2ff082b81fc3928e79c    other   \n",
              "4590  4c623c5e0644db52dd75dd6e8de9c47a    other   \n",
              "4591  fb61441d805a4d1c01b88bf8ea26af4e    other   \n",
              "4592  bc226805e266b5e5878283444923042b    other   \n",
              "4593  c45e2fed3f6ce4a67de084865fe91ef7    other   \n",
              "\n",
              "                                                top_ref  identity    Domain  \\\n",
              "0     LjNodule209=LjNodule210=LjNodule211=LjNodule21...     100.0  Bacteria   \n",
              "1                                             LjRoot149     100.0  Bacteria   \n",
              "2     LjRoot20=LjRoot37=LjRoot38=LjRoot129=LjRoot138...     100.0  Bacteria   \n",
              "3                                             LjRoot221     100.0  Bacteria   \n",
              "4     LjRoot21=LjRoot60=LjRoot63=LjRoot68=LjRoot73=L...     100.0  Bacteria   \n",
              "...                                                 ...       ...       ...   \n",
              "4589                                                NaN       NaN  Bacteria   \n",
              "4590                                                NaN       NaN  Bacteria   \n",
              "4591                                                NaN       NaN  Bacteria   \n",
              "4592                                                NaN       NaN  Bacteria   \n",
              "4593                                                NaN       NaN  Bacteria   \n",
              "\n",
              "              Phylum                Class                  Order  \\\n",
              "0     Proteobacteria  Alphaproteobacteria            Rhizobiales   \n",
              "1      Bacteroidetes          Bacteroidia       Flavobacteriales   \n",
              "2     Proteobacteria  Gammaproteobacteria  Betaproteobacteriales   \n",
              "3     Proteobacteria  Alphaproteobacteria            Rhizobiales   \n",
              "4     Proteobacteria  Gammaproteobacteria        Xanthomonadales   \n",
              "...              ...                  ...                    ...   \n",
              "4589  Proteobacteria  Gammaproteobacteria                      0   \n",
              "4590  Proteobacteria  Gammaproteobacteria  Betaproteobacteriales   \n",
              "4591  Proteobacteria  Gammaproteobacteria  Betaproteobacteriales   \n",
              "4592  Actinobacteria       Actinobacteria    Propionibacteriales   \n",
              "4593  Proteobacteria  Alphaproteobacteria       Sphingomonadales   \n",
              "\n",
              "                    Family                                              Genus  \n",
              "0             Rhizobiaceae                                      Mesorhizobium  \n",
              "1        Flavobacteriaceae                                     Flavobacterium  \n",
              "2         Burkholderiaceae                                                  0  \n",
              "3             Rhizobiaceae  Allorhizobium-Neorhizobium-Pararhizobium-Rhizo...  \n",
              "4         Xanthomonadaceae                                  Pseudoxanthomonas  \n",
              "...                    ...                                                ...  \n",
              "4589                     0                                                  0  \n",
              "4590      Burkholderiaceae         Burkholderia-Caballeronia-Paraburkholderia  \n",
              "4591      Burkholderiaceae                                                  0  \n",
              "4592  Propionibacteriaceae                                        Micropruina  \n",
              "4593     Sphingomonadaceae                                                  0  \n",
              "\n",
              "[4594 rows x 10 columns]"
            ],
            "text/html": [
              "\n",
              "  <div id=\"df-58d4d6c8-282f-4892-b46f-7ee422e5a394\">\n",
              "    <div class=\"colab-df-container\">\n",
              "      <div>\n",
              "<style scoped>\n",
              "    .dataframe tbody tr th:only-of-type {\n",
              "        vertical-align: middle;\n",
              "    }\n",
              "\n",
              "    .dataframe tbody tr th {\n",
              "        vertical-align: top;\n",
              "    }\n",
              "\n",
              "    .dataframe thead th {\n",
              "        text-align: right;\n",
              "    }\n",
              "</style>\n",
              "<table border=\"1\" class=\"dataframe\">\n",
              "  <thead>\n",
              "    <tr style=\"text-align: right;\">\n",
              "      <th></th>\n",
              "      <th>Feature_ID</th>\n",
              "      <th>Result</th>\n",
              "      <th>top_ref</th>\n",
              "      <th>identity</th>\n",
              "      <th>Domain</th>\n",
              "      <th>Phylum</th>\n",
              "      <th>Class</th>\n",
              "      <th>Order</th>\n",
              "      <th>Family</th>\n",
              "      <th>Genus</th>\n",
              "    </tr>\n",
              "  </thead>\n",
              "  <tbody>\n",
              "    <tr>\n",
              "      <th>0</th>\n",
              "      <td>a20f500706b0005fe884f0ecf17a8d8c</td>\n",
              "      <td>perfect</td>\n",
              "      <td>LjNodule209=LjNodule210=LjNodule211=LjNodule21...</td>\n",
              "      <td>100.0</td>\n",
              "      <td>Bacteria</td>\n",
              "      <td>Proteobacteria</td>\n",
              "      <td>Alphaproteobacteria</td>\n",
              "      <td>Rhizobiales</td>\n",
              "      <td>Rhizobiaceae</td>\n",
              "      <td>Mesorhizobium</td>\n",
              "    </tr>\n",
              "    <tr>\n",
              "      <th>1</th>\n",
              "      <td>8e2326d224a3adc2221c2c1932ab7c6b</td>\n",
              "      <td>perfect</td>\n",
              "      <td>LjRoot149</td>\n",
              "      <td>100.0</td>\n",
              "      <td>Bacteria</td>\n",
              "      <td>Bacteroidetes</td>\n",
              "      <td>Bacteroidia</td>\n",
              "      <td>Flavobacteriales</td>\n",
              "      <td>Flavobacteriaceae</td>\n",
              "      <td>Flavobacterium</td>\n",
              "    </tr>\n",
              "    <tr>\n",
              "      <th>2</th>\n",
              "      <td>fca661a60cfccd85f8f8ce0970e5960d</td>\n",
              "      <td>perfect</td>\n",
              "      <td>LjRoot20=LjRoot37=LjRoot38=LjRoot129=LjRoot138...</td>\n",
              "      <td>100.0</td>\n",
              "      <td>Bacteria</td>\n",
              "      <td>Proteobacteria</td>\n",
              "      <td>Gammaproteobacteria</td>\n",
              "      <td>Betaproteobacteriales</td>\n",
              "      <td>Burkholderiaceae</td>\n",
              "      <td>0</td>\n",
              "    </tr>\n",
              "    <tr>\n",
              "      <th>3</th>\n",
              "      <td>26224096c4e323245382bff89c608796</td>\n",
              "      <td>perfect</td>\n",
              "      <td>LjRoot221</td>\n",
              "      <td>100.0</td>\n",
              "      <td>Bacteria</td>\n",
              "      <td>Proteobacteria</td>\n",
              "      <td>Alphaproteobacteria</td>\n",
              "      <td>Rhizobiales</td>\n",
              "      <td>Rhizobiaceae</td>\n",
              "      <td>Allorhizobium-Neorhizobium-Pararhizobium-Rhizo...</td>\n",
              "    </tr>\n",
              "    <tr>\n",
              "      <th>4</th>\n",
              "      <td>89314f2de8555c64042a0774d1e71967</td>\n",
              "      <td>perfect</td>\n",
              "      <td>LjRoot21=LjRoot60=LjRoot63=LjRoot68=LjRoot73=L...</td>\n",
              "      <td>100.0</td>\n",
              "      <td>Bacteria</td>\n",
              "      <td>Proteobacteria</td>\n",
              "      <td>Gammaproteobacteria</td>\n",
              "      <td>Xanthomonadales</td>\n",
              "      <td>Xanthomonadaceae</td>\n",
              "      <td>Pseudoxanthomonas</td>\n",
              "    </tr>\n",
              "    <tr>\n",
              "      <th>...</th>\n",
              "      <td>...</td>\n",
              "      <td>...</td>\n",
              "      <td>...</td>\n",
              "      <td>...</td>\n",
              "      <td>...</td>\n",
              "      <td>...</td>\n",
              "      <td>...</td>\n",
              "      <td>...</td>\n",
              "      <td>...</td>\n",
              "      <td>...</td>\n",
              "    </tr>\n",
              "    <tr>\n",
              "      <th>4589</th>\n",
              "      <td>897f7d3e6299c2ff082b81fc3928e79c</td>\n",
              "      <td>other</td>\n",
              "      <td>NaN</td>\n",
              "      <td>NaN</td>\n",
              "      <td>Bacteria</td>\n",
              "      <td>Proteobacteria</td>\n",
              "      <td>Gammaproteobacteria</td>\n",
              "      <td>0</td>\n",
              "      <td>0</td>\n",
              "      <td>0</td>\n",
              "    </tr>\n",
              "    <tr>\n",
              "      <th>4590</th>\n",
              "      <td>4c623c5e0644db52dd75dd6e8de9c47a</td>\n",
              "      <td>other</td>\n",
              "      <td>NaN</td>\n",
              "      <td>NaN</td>\n",
              "      <td>Bacteria</td>\n",
              "      <td>Proteobacteria</td>\n",
              "      <td>Gammaproteobacteria</td>\n",
              "      <td>Betaproteobacteriales</td>\n",
              "      <td>Burkholderiaceae</td>\n",
              "      <td>Burkholderia-Caballeronia-Paraburkholderia</td>\n",
              "    </tr>\n",
              "    <tr>\n",
              "      <th>4591</th>\n",
              "      <td>fb61441d805a4d1c01b88bf8ea26af4e</td>\n",
              "      <td>other</td>\n",
              "      <td>NaN</td>\n",
              "      <td>NaN</td>\n",
              "      <td>Bacteria</td>\n",
              "      <td>Proteobacteria</td>\n",
              "      <td>Gammaproteobacteria</td>\n",
              "      <td>Betaproteobacteriales</td>\n",
              "      <td>Burkholderiaceae</td>\n",
              "      <td>0</td>\n",
              "    </tr>\n",
              "    <tr>\n",
              "      <th>4592</th>\n",
              "      <td>bc226805e266b5e5878283444923042b</td>\n",
              "      <td>other</td>\n",
              "      <td>NaN</td>\n",
              "      <td>NaN</td>\n",
              "      <td>Bacteria</td>\n",
              "      <td>Actinobacteria</td>\n",
              "      <td>Actinobacteria</td>\n",
              "      <td>Propionibacteriales</td>\n",
              "      <td>Propionibacteriaceae</td>\n",
              "      <td>Micropruina</td>\n",
              "    </tr>\n",
              "    <tr>\n",
              "      <th>4593</th>\n",
              "      <td>c45e2fed3f6ce4a67de084865fe91ef7</td>\n",
              "      <td>other</td>\n",
              "      <td>NaN</td>\n",
              "      <td>NaN</td>\n",
              "      <td>Bacteria</td>\n",
              "      <td>Proteobacteria</td>\n",
              "      <td>Alphaproteobacteria</td>\n",
              "      <td>Sphingomonadales</td>\n",
              "      <td>Sphingomonadaceae</td>\n",
              "      <td>0</td>\n",
              "    </tr>\n",
              "  </tbody>\n",
              "</table>\n",
              "<p>4594 rows × 10 columns</p>\n",
              "</div>\n",
              "      <button class=\"colab-df-convert\" onclick=\"convertToInteractive('df-58d4d6c8-282f-4892-b46f-7ee422e5a394')\"\n",
              "              title=\"Convert this dataframe to an interactive table.\"\n",
              "              style=\"display:none;\">\n",
              "        \n",
              "  <svg xmlns=\"http://www.w3.org/2000/svg\" height=\"24px\"viewBox=\"0 0 24 24\"\n",
              "       width=\"24px\">\n",
              "    <path d=\"M0 0h24v24H0V0z\" fill=\"none\"/>\n",
              "    <path d=\"M18.56 5.44l.94 2.06.94-2.06 2.06-.94-2.06-.94-.94-2.06-.94 2.06-2.06.94zm-11 1L8.5 8.5l.94-2.06 2.06-.94-2.06-.94L8.5 2.5l-.94 2.06-2.06.94zm10 10l.94 2.06.94-2.06 2.06-.94-2.06-.94-.94-2.06-.94 2.06-2.06.94z\"/><path d=\"M17.41 7.96l-1.37-1.37c-.4-.4-.92-.59-1.43-.59-.52 0-1.04.2-1.43.59L10.3 9.45l-7.72 7.72c-.78.78-.78 2.05 0 2.83L4 21.41c.39.39.9.59 1.41.59.51 0 1.02-.2 1.41-.59l7.78-7.78 2.81-2.81c.8-.78.8-2.07 0-2.86zM5.41 20L4 18.59l7.72-7.72 1.47 1.35L5.41 20z\"/>\n",
              "  </svg>\n",
              "      </button>\n",
              "      \n",
              "  <style>\n",
              "    .colab-df-container {\n",
              "      display:flex;\n",
              "      flex-wrap:wrap;\n",
              "      gap: 12px;\n",
              "    }\n",
              "\n",
              "    .colab-df-convert {\n",
              "      background-color: #E8F0FE;\n",
              "      border: none;\n",
              "      border-radius: 50%;\n",
              "      cursor: pointer;\n",
              "      display: none;\n",
              "      fill: #1967D2;\n",
              "      height: 32px;\n",
              "      padding: 0 0 0 0;\n",
              "      width: 32px;\n",
              "    }\n",
              "\n",
              "    .colab-df-convert:hover {\n",
              "      background-color: #E2EBFA;\n",
              "      box-shadow: 0px 1px 2px rgba(60, 64, 67, 0.3), 0px 1px 3px 1px rgba(60, 64, 67, 0.15);\n",
              "      fill: #174EA6;\n",
              "    }\n",
              "\n",
              "    [theme=dark] .colab-df-convert {\n",
              "      background-color: #3B4455;\n",
              "      fill: #D2E3FC;\n",
              "    }\n",
              "\n",
              "    [theme=dark] .colab-df-convert:hover {\n",
              "      background-color: #434B5C;\n",
              "      box-shadow: 0px 1px 3px 1px rgba(0, 0, 0, 0.15);\n",
              "      filter: drop-shadow(0px 1px 2px rgba(0, 0, 0, 0.3));\n",
              "      fill: #FFFFFF;\n",
              "    }\n",
              "  </style>\n",
              "\n",
              "      <script>\n",
              "        const buttonEl =\n",
              "          document.querySelector('#df-58d4d6c8-282f-4892-b46f-7ee422e5a394 button.colab-df-convert');\n",
              "        buttonEl.style.display =\n",
              "          google.colab.kernel.accessAllowed ? 'block' : 'none';\n",
              "\n",
              "        async function convertToInteractive(key) {\n",
              "          const element = document.querySelector('#df-58d4d6c8-282f-4892-b46f-7ee422e5a394');\n",
              "          const dataTable =\n",
              "            await google.colab.kernel.invokeFunction('convertToInteractive',\n",
              "                                                     [key], {});\n",
              "          if (!dataTable) return;\n",
              "\n",
              "          const docLinkHtml = 'Like what you see? Visit the ' +\n",
              "            '<a target=\"_blank\" href=https://colab.research.google.com/notebooks/data_table.ipynb>data table notebook</a>'\n",
              "            + ' to learn more about interactive tables.';\n",
              "          element.innerHTML = '';\n",
              "          dataTable['output_type'] = 'display_data';\n",
              "          await google.colab.output.renderOutput(dataTable, element);\n",
              "          const docLink = document.createElement('div');\n",
              "          docLink.innerHTML = docLinkHtml;\n",
              "          element.appendChild(docLink);\n",
              "        }\n",
              "      </script>\n",
              "    </div>\n",
              "  </div>\n",
              "  "
            ]
          },
          "metadata": {},
          "execution_count": 3
        }
      ]
    },
    {
      "cell_type": "markdown",
      "metadata": {
        "id": "brxgByKTQOVz"
      },
      "source": [
        "First let's check out what datatypes we have in our dataset. If the data types are not what we expect, we could run into problems with our preprocessing and later on with our training."
      ]
    },
    {
      "cell_type": "code",
      "metadata": {
        "id": "djIagM3nQup0",
        "colab": {
          "base_uri": "https://localhost:8080/"
        },
        "outputId": "840702e5-4622-4c0c-938e-644b5af3f05c"
      },
      "source": [
        "data.dtypes"
      ],
      "execution_count": null,
      "outputs": [
        {
          "output_type": "execute_result",
          "data": {
            "text/plain": [
              "Make                  object\n",
              "Model                 object\n",
              "Year                   int64\n",
              "Engine Fuel Type      object\n",
              "Engine HP            float64\n",
              "Engine Cylinders     float64\n",
              "Transmission Type     object\n",
              "Driven_Wheels         object\n",
              "Number of Doors      float64\n",
              "Market Category       object\n",
              "Vehicle Size          object\n",
              "Vehicle Style         object\n",
              "highway MPG            int64\n",
              "city mpg               int64\n",
              "Popularity             int64\n",
              "MSRP                   int64\n",
              "dtype: object"
            ]
          },
          "metadata": {},
          "execution_count": 3
        }
      ]
    },
    {
      "cell_type": "markdown",
      "metadata": {
        "id": "vBcVGv6zOCgX"
      },
      "source": [
        "In general, you can't provide text input to a ML model. This is a problem since a lot of our categories (make, model, fuel, transmission, etc) are text based. Luckily, it is pretty easy with Numpy to turn all this text into numbers. This is done using one-hot encoding which is shown in the code below:"
      ]
    },
    {
      "cell_type": "markdown",
      "metadata": {
        "id": "R4vdxIxtUGty"
      },
      "source": [
        "Now let's do this for the whole dataset. First we will pop the categorical columns off of our dataset and store them into individual variables."
      ]
    },
    {
      "cell_type": "code",
      "metadata": {
        "id": "A0Fk59xQUJal",
        "colab": {
          "base_uri": "https://localhost:8080/"
        },
        "outputId": "8ade955e-af62-4b3a-b7da-e74355416be7"
      },
      "source": [
        "make = data.pop('Make')\n",
        "model = data.pop('Model')\n",
        "fuel = data.pop('Engine Fuel Type')\n",
        "trans = data.pop('Transmission Type')\n",
        "drive = data.pop('Driven_Wheels')\n",
        "market = data.pop('Market Category')\n",
        "size = data.pop('Vehicle Size')\n",
        "style = data.pop('Vehicle Style')\n",
        "print(\"Done\")"
      ],
      "execution_count": null,
      "outputs": [
        {
          "output_type": "stream",
          "name": "stdout",
          "text": [
            "Done\n"
          ]
        }
      ]
    },
    {
      "cell_type": "markdown",
      "metadata": {
        "id": "4jOsZ1FWWrMa"
      },
      "source": [
        "Here we check our work and see that the only columns left in data are numerical."
      ]
    },
    {
      "cell_type": "code",
      "metadata": {
        "id": "w71cG3LHWgHF",
        "colab": {
          "base_uri": "https://localhost:8080/",
          "height": 423
        },
        "outputId": "e8cfc570-009f-4c13-9f51-67bf491b726a"
      },
      "source": [
        "data"
      ],
      "execution_count": null,
      "outputs": [
        {
          "output_type": "execute_result",
          "data": {
            "text/plain": [
              "       Year  Engine HP  Engine Cylinders  Number of Doors  highway MPG  \\\n",
              "0      2011      335.0               6.0              2.0           26   \n",
              "1      2011      300.0               6.0              2.0           28   \n",
              "2      2011      300.0               6.0              2.0           28   \n",
              "3      2011      230.0               6.0              2.0           28   \n",
              "4      2011      230.0               6.0              2.0           28   \n",
              "...     ...        ...               ...              ...          ...   \n",
              "11909  2012      300.0               6.0              4.0           23   \n",
              "11910  2012      300.0               6.0              4.0           23   \n",
              "11911  2012      300.0               6.0              4.0           23   \n",
              "11912  2013      300.0               6.0              4.0           23   \n",
              "11913  2006      221.0               6.0              4.0           26   \n",
              "\n",
              "       city mpg  Popularity   MSRP  \n",
              "0            19        3916  46135  \n",
              "1            19        3916  40650  \n",
              "2            20        3916  36350  \n",
              "3            18        3916  29450  \n",
              "4            18        3916  34500  \n",
              "...         ...         ...    ...  \n",
              "11909        16         204  46120  \n",
              "11910        16         204  56670  \n",
              "11911        16         204  50620  \n",
              "11912        16         204  50920  \n",
              "11913        17          61  28995  \n",
              "\n",
              "[11914 rows x 8 columns]"
            ],
            "text/html": [
              "\n",
              "  <div id=\"df-8e43bc89-8465-4522-b62e-fceaab663a4e\">\n",
              "    <div class=\"colab-df-container\">\n",
              "      <div>\n",
              "<style scoped>\n",
              "    .dataframe tbody tr th:only-of-type {\n",
              "        vertical-align: middle;\n",
              "    }\n",
              "\n",
              "    .dataframe tbody tr th {\n",
              "        vertical-align: top;\n",
              "    }\n",
              "\n",
              "    .dataframe thead th {\n",
              "        text-align: right;\n",
              "    }\n",
              "</style>\n",
              "<table border=\"1\" class=\"dataframe\">\n",
              "  <thead>\n",
              "    <tr style=\"text-align: right;\">\n",
              "      <th></th>\n",
              "      <th>Year</th>\n",
              "      <th>Engine HP</th>\n",
              "      <th>Engine Cylinders</th>\n",
              "      <th>Number of Doors</th>\n",
              "      <th>highway MPG</th>\n",
              "      <th>city mpg</th>\n",
              "      <th>Popularity</th>\n",
              "      <th>MSRP</th>\n",
              "    </tr>\n",
              "  </thead>\n",
              "  <tbody>\n",
              "    <tr>\n",
              "      <th>0</th>\n",
              "      <td>2011</td>\n",
              "      <td>335.0</td>\n",
              "      <td>6.0</td>\n",
              "      <td>2.0</td>\n",
              "      <td>26</td>\n",
              "      <td>19</td>\n",
              "      <td>3916</td>\n",
              "      <td>46135</td>\n",
              "    </tr>\n",
              "    <tr>\n",
              "      <th>1</th>\n",
              "      <td>2011</td>\n",
              "      <td>300.0</td>\n",
              "      <td>6.0</td>\n",
              "      <td>2.0</td>\n",
              "      <td>28</td>\n",
              "      <td>19</td>\n",
              "      <td>3916</td>\n",
              "      <td>40650</td>\n",
              "    </tr>\n",
              "    <tr>\n",
              "      <th>2</th>\n",
              "      <td>2011</td>\n",
              "      <td>300.0</td>\n",
              "      <td>6.0</td>\n",
              "      <td>2.0</td>\n",
              "      <td>28</td>\n",
              "      <td>20</td>\n",
              "      <td>3916</td>\n",
              "      <td>36350</td>\n",
              "    </tr>\n",
              "    <tr>\n",
              "      <th>3</th>\n",
              "      <td>2011</td>\n",
              "      <td>230.0</td>\n",
              "      <td>6.0</td>\n",
              "      <td>2.0</td>\n",
              "      <td>28</td>\n",
              "      <td>18</td>\n",
              "      <td>3916</td>\n",
              "      <td>29450</td>\n",
              "    </tr>\n",
              "    <tr>\n",
              "      <th>4</th>\n",
              "      <td>2011</td>\n",
              "      <td>230.0</td>\n",
              "      <td>6.0</td>\n",
              "      <td>2.0</td>\n",
              "      <td>28</td>\n",
              "      <td>18</td>\n",
              "      <td>3916</td>\n",
              "      <td>34500</td>\n",
              "    </tr>\n",
              "    <tr>\n",
              "      <th>...</th>\n",
              "      <td>...</td>\n",
              "      <td>...</td>\n",
              "      <td>...</td>\n",
              "      <td>...</td>\n",
              "      <td>...</td>\n",
              "      <td>...</td>\n",
              "      <td>...</td>\n",
              "      <td>...</td>\n",
              "    </tr>\n",
              "    <tr>\n",
              "      <th>11909</th>\n",
              "      <td>2012</td>\n",
              "      <td>300.0</td>\n",
              "      <td>6.0</td>\n",
              "      <td>4.0</td>\n",
              "      <td>23</td>\n",
              "      <td>16</td>\n",
              "      <td>204</td>\n",
              "      <td>46120</td>\n",
              "    </tr>\n",
              "    <tr>\n",
              "      <th>11910</th>\n",
              "      <td>2012</td>\n",
              "      <td>300.0</td>\n",
              "      <td>6.0</td>\n",
              "      <td>4.0</td>\n",
              "      <td>23</td>\n",
              "      <td>16</td>\n",
              "      <td>204</td>\n",
              "      <td>56670</td>\n",
              "    </tr>\n",
              "    <tr>\n",
              "      <th>11911</th>\n",
              "      <td>2012</td>\n",
              "      <td>300.0</td>\n",
              "      <td>6.0</td>\n",
              "      <td>4.0</td>\n",
              "      <td>23</td>\n",
              "      <td>16</td>\n",
              "      <td>204</td>\n",
              "      <td>50620</td>\n",
              "    </tr>\n",
              "    <tr>\n",
              "      <th>11912</th>\n",
              "      <td>2013</td>\n",
              "      <td>300.0</td>\n",
              "      <td>6.0</td>\n",
              "      <td>4.0</td>\n",
              "      <td>23</td>\n",
              "      <td>16</td>\n",
              "      <td>204</td>\n",
              "      <td>50920</td>\n",
              "    </tr>\n",
              "    <tr>\n",
              "      <th>11913</th>\n",
              "      <td>2006</td>\n",
              "      <td>221.0</td>\n",
              "      <td>6.0</td>\n",
              "      <td>4.0</td>\n",
              "      <td>26</td>\n",
              "      <td>17</td>\n",
              "      <td>61</td>\n",
              "      <td>28995</td>\n",
              "    </tr>\n",
              "  </tbody>\n",
              "</table>\n",
              "<p>11914 rows × 8 columns</p>\n",
              "</div>\n",
              "      <button class=\"colab-df-convert\" onclick=\"convertToInteractive('df-8e43bc89-8465-4522-b62e-fceaab663a4e')\"\n",
              "              title=\"Convert this dataframe to an interactive table.\"\n",
              "              style=\"display:none;\">\n",
              "        \n",
              "  <svg xmlns=\"http://www.w3.org/2000/svg\" height=\"24px\"viewBox=\"0 0 24 24\"\n",
              "       width=\"24px\">\n",
              "    <path d=\"M0 0h24v24H0V0z\" fill=\"none\"/>\n",
              "    <path d=\"M18.56 5.44l.94 2.06.94-2.06 2.06-.94-2.06-.94-.94-2.06-.94 2.06-2.06.94zm-11 1L8.5 8.5l.94-2.06 2.06-.94-2.06-.94L8.5 2.5l-.94 2.06-2.06.94zm10 10l.94 2.06.94-2.06 2.06-.94-2.06-.94-.94-2.06-.94 2.06-2.06.94z\"/><path d=\"M17.41 7.96l-1.37-1.37c-.4-.4-.92-.59-1.43-.59-.52 0-1.04.2-1.43.59L10.3 9.45l-7.72 7.72c-.78.78-.78 2.05 0 2.83L4 21.41c.39.39.9.59 1.41.59.51 0 1.02-.2 1.41-.59l7.78-7.78 2.81-2.81c.8-.78.8-2.07 0-2.86zM5.41 20L4 18.59l7.72-7.72 1.47 1.35L5.41 20z\"/>\n",
              "  </svg>\n",
              "      </button>\n",
              "      \n",
              "  <style>\n",
              "    .colab-df-container {\n",
              "      display:flex;\n",
              "      flex-wrap:wrap;\n",
              "      gap: 12px;\n",
              "    }\n",
              "\n",
              "    .colab-df-convert {\n",
              "      background-color: #E8F0FE;\n",
              "      border: none;\n",
              "      border-radius: 50%;\n",
              "      cursor: pointer;\n",
              "      display: none;\n",
              "      fill: #1967D2;\n",
              "      height: 32px;\n",
              "      padding: 0 0 0 0;\n",
              "      width: 32px;\n",
              "    }\n",
              "\n",
              "    .colab-df-convert:hover {\n",
              "      background-color: #E2EBFA;\n",
              "      box-shadow: 0px 1px 2px rgba(60, 64, 67, 0.3), 0px 1px 3px 1px rgba(60, 64, 67, 0.15);\n",
              "      fill: #174EA6;\n",
              "    }\n",
              "\n",
              "    [theme=dark] .colab-df-convert {\n",
              "      background-color: #3B4455;\n",
              "      fill: #D2E3FC;\n",
              "    }\n",
              "\n",
              "    [theme=dark] .colab-df-convert:hover {\n",
              "      background-color: #434B5C;\n",
              "      box-shadow: 0px 1px 3px 1px rgba(0, 0, 0, 0.15);\n",
              "      filter: drop-shadow(0px 1px 2px rgba(0, 0, 0, 0.3));\n",
              "      fill: #FFFFFF;\n",
              "    }\n",
              "  </style>\n",
              "\n",
              "      <script>\n",
              "        const buttonEl =\n",
              "          document.querySelector('#df-8e43bc89-8465-4522-b62e-fceaab663a4e button.colab-df-convert');\n",
              "        buttonEl.style.display =\n",
              "          google.colab.kernel.accessAllowed ? 'block' : 'none';\n",
              "\n",
              "        async function convertToInteractive(key) {\n",
              "          const element = document.querySelector('#df-8e43bc89-8465-4522-b62e-fceaab663a4e');\n",
              "          const dataTable =\n",
              "            await google.colab.kernel.invokeFunction('convertToInteractive',\n",
              "                                                     [key], {});\n",
              "          if (!dataTable) return;\n",
              "\n",
              "          const docLinkHtml = 'Like what you see? Visit the ' +\n",
              "            '<a target=\"_blank\" href=https://colab.research.google.com/notebooks/data_table.ipynb>data table notebook</a>'\n",
              "            + ' to learn more about interactive tables.';\n",
              "          element.innerHTML = '';\n",
              "          dataTable['output_type'] = 'display_data';\n",
              "          await google.colab.output.renderOutput(dataTable, element);\n",
              "          const docLink = document.createElement('div');\n",
              "          docLink.innerHTML = docLinkHtml;\n",
              "          element.appendChild(docLink);\n",
              "        }\n",
              "      </script>\n",
              "    </div>\n",
              "  </div>\n",
              "  "
            ]
          },
          "metadata": {},
          "execution_count": 5
        }
      ]
    },
    {
      "cell_type": "markdown",
      "metadata": {
        "id": "ZfGMLleWWwOk"
      },
      "source": [
        "Now let's perform our one-hot encoding on all the columns we popped off the original dataframe."
      ]
    },
    {
      "cell_type": "code",
      "metadata": {
        "id": "Dh6Wy8riW1dr",
        "colab": {
          "base_uri": "https://localhost:8080/"
        },
        "outputId": "693ca18b-321c-4553-81a1-201aa6b061cd"
      },
      "source": [
        "oh_make = pd.get_dummies(make)\n",
        "oh_model = pd.get_dummies(model)\n",
        "oh_fuel = pd.get_dummies(fuel)\n",
        "oh_trans = pd.get_dummies(trans)\n",
        "oh_drive = pd.get_dummies(drive)\n",
        "oh_market = pd.get_dummies(market)\n",
        "oh_size = pd.get_dummies(size)\n",
        "oh_style = pd.get_dummies(style)\n",
        "print(\"Done\")"
      ],
      "execution_count": null,
      "outputs": [
        {
          "output_type": "stream",
          "name": "stdout",
          "text": [
            "Done\n"
          ]
        }
      ]
    },
    {
      "cell_type": "markdown",
      "metadata": {
        "id": "ggUI_08xXhRH"
      },
      "source": [
        "And finally we reappend these new columns back onto our original dataframe"
      ]
    },
    {
      "cell_type": "code",
      "metadata": {
        "id": "QKBUaWlBXm44",
        "colab": {
          "base_uri": "https://localhost:8080/",
          "height": 667
        },
        "outputId": "17465724-7b6c-490e-8301-5cd8697aa29e"
      },
      "source": [
        "processed_data = pd.concat([data, oh_make, oh_model, oh_fuel, oh_trans, oh_drive, oh_market, oh_size, oh_style], axis=1)\n",
        "processed_data"
      ],
      "execution_count": null,
      "outputs": [
        {
          "output_type": "execute_result",
          "data": {
            "text/plain": [
              "       Year  Engine HP  Engine Cylinders  Number of Doors  highway MPG  \\\n",
              "0      2011      335.0               6.0              2.0           26   \n",
              "1      2011      300.0               6.0              2.0           28   \n",
              "2      2011      300.0               6.0              2.0           28   \n",
              "3      2011      230.0               6.0              2.0           28   \n",
              "4      2011      230.0               6.0              2.0           28   \n",
              "...     ...        ...               ...              ...          ...   \n",
              "11909  2012      300.0               6.0              4.0           23   \n",
              "11910  2012      300.0               6.0              4.0           23   \n",
              "11911  2012      300.0               6.0              4.0           23   \n",
              "11912  2013      300.0               6.0              4.0           23   \n",
              "11913  2006      221.0               6.0              4.0           26   \n",
              "\n",
              "       city mpg  Popularity   MSRP  Acura  Alfa Romeo  ...  Convertible  \\\n",
              "0            19        3916  46135      0           0  ...            0   \n",
              "1            19        3916  40650      0           0  ...            1   \n",
              "2            20        3916  36350      0           0  ...            0   \n",
              "3            18        3916  29450      0           0  ...            0   \n",
              "4            18        3916  34500      0           0  ...            1   \n",
              "...         ...         ...    ...    ...         ...  ...          ...   \n",
              "11909        16         204  46120      1           0  ...            0   \n",
              "11910        16         204  56670      1           0  ...            0   \n",
              "11911        16         204  50620      1           0  ...            0   \n",
              "11912        16         204  50920      1           0  ...            0   \n",
              "11913        17          61  28995      0           0  ...            0   \n",
              "\n",
              "       Convertible SUV  Coupe  Crew Cab Pickup  Extended Cab Pickup  \\\n",
              "0                    0      1                0                    0   \n",
              "1                    0      0                0                    0   \n",
              "2                    0      1                0                    0   \n",
              "3                    0      1                0                    0   \n",
              "4                    0      0                0                    0   \n",
              "...                ...    ...              ...                  ...   \n",
              "11909                0      0                0                    0   \n",
              "11910                0      0                0                    0   \n",
              "11911                0      0                0                    0   \n",
              "11912                0      0                0                    0   \n",
              "11913                0      0                0                    0   \n",
              "\n",
              "       Passenger Minivan  Passenger Van  Regular Cab Pickup  Sedan  Wagon  \n",
              "0                      0              0                   0      0      0  \n",
              "1                      0              0                   0      0      0  \n",
              "2                      0              0                   0      0      0  \n",
              "3                      0              0                   0      0      0  \n",
              "4                      0              0                   0      0      0  \n",
              "...                  ...            ...                 ...    ...    ...  \n",
              "11909                  0              0                   0      0      0  \n",
              "11910                  0              0                   0      0      0  \n",
              "11911                  0              0                   0      0      0  \n",
              "11912                  0              0                   0      0      0  \n",
              "11913                  0              0                   0      1      0  \n",
              "\n",
              "[11914 rows x 1080 columns]"
            ],
            "text/html": [
              "\n",
              "  <div id=\"df-dbc260c7-e8ff-4fdd-a742-64367b948e5c\">\n",
              "    <div class=\"colab-df-container\">\n",
              "      <div>\n",
              "<style scoped>\n",
              "    .dataframe tbody tr th:only-of-type {\n",
              "        vertical-align: middle;\n",
              "    }\n",
              "\n",
              "    .dataframe tbody tr th {\n",
              "        vertical-align: top;\n",
              "    }\n",
              "\n",
              "    .dataframe thead th {\n",
              "        text-align: right;\n",
              "    }\n",
              "</style>\n",
              "<table border=\"1\" class=\"dataframe\">\n",
              "  <thead>\n",
              "    <tr style=\"text-align: right;\">\n",
              "      <th></th>\n",
              "      <th>Year</th>\n",
              "      <th>Engine HP</th>\n",
              "      <th>Engine Cylinders</th>\n",
              "      <th>Number of Doors</th>\n",
              "      <th>highway MPG</th>\n",
              "      <th>city mpg</th>\n",
              "      <th>Popularity</th>\n",
              "      <th>MSRP</th>\n",
              "      <th>Acura</th>\n",
              "      <th>Alfa Romeo</th>\n",
              "      <th>...</th>\n",
              "      <th>Convertible</th>\n",
              "      <th>Convertible SUV</th>\n",
              "      <th>Coupe</th>\n",
              "      <th>Crew Cab Pickup</th>\n",
              "      <th>Extended Cab Pickup</th>\n",
              "      <th>Passenger Minivan</th>\n",
              "      <th>Passenger Van</th>\n",
              "      <th>Regular Cab Pickup</th>\n",
              "      <th>Sedan</th>\n",
              "      <th>Wagon</th>\n",
              "    </tr>\n",
              "  </thead>\n",
              "  <tbody>\n",
              "    <tr>\n",
              "      <th>0</th>\n",
              "      <td>2011</td>\n",
              "      <td>335.0</td>\n",
              "      <td>6.0</td>\n",
              "      <td>2.0</td>\n",
              "      <td>26</td>\n",
              "      <td>19</td>\n",
              "      <td>3916</td>\n",
              "      <td>46135</td>\n",
              "      <td>0</td>\n",
              "      <td>0</td>\n",
              "      <td>...</td>\n",
              "      <td>0</td>\n",
              "      <td>0</td>\n",
              "      <td>1</td>\n",
              "      <td>0</td>\n",
              "      <td>0</td>\n",
              "      <td>0</td>\n",
              "      <td>0</td>\n",
              "      <td>0</td>\n",
              "      <td>0</td>\n",
              "      <td>0</td>\n",
              "    </tr>\n",
              "    <tr>\n",
              "      <th>1</th>\n",
              "      <td>2011</td>\n",
              "      <td>300.0</td>\n",
              "      <td>6.0</td>\n",
              "      <td>2.0</td>\n",
              "      <td>28</td>\n",
              "      <td>19</td>\n",
              "      <td>3916</td>\n",
              "      <td>40650</td>\n",
              "      <td>0</td>\n",
              "      <td>0</td>\n",
              "      <td>...</td>\n",
              "      <td>1</td>\n",
              "      <td>0</td>\n",
              "      <td>0</td>\n",
              "      <td>0</td>\n",
              "      <td>0</td>\n",
              "      <td>0</td>\n",
              "      <td>0</td>\n",
              "      <td>0</td>\n",
              "      <td>0</td>\n",
              "      <td>0</td>\n",
              "    </tr>\n",
              "    <tr>\n",
              "      <th>2</th>\n",
              "      <td>2011</td>\n",
              "      <td>300.0</td>\n",
              "      <td>6.0</td>\n",
              "      <td>2.0</td>\n",
              "      <td>28</td>\n",
              "      <td>20</td>\n",
              "      <td>3916</td>\n",
              "      <td>36350</td>\n",
              "      <td>0</td>\n",
              "      <td>0</td>\n",
              "      <td>...</td>\n",
              "      <td>0</td>\n",
              "      <td>0</td>\n",
              "      <td>1</td>\n",
              "      <td>0</td>\n",
              "      <td>0</td>\n",
              "      <td>0</td>\n",
              "      <td>0</td>\n",
              "      <td>0</td>\n",
              "      <td>0</td>\n",
              "      <td>0</td>\n",
              "    </tr>\n",
              "    <tr>\n",
              "      <th>3</th>\n",
              "      <td>2011</td>\n",
              "      <td>230.0</td>\n",
              "      <td>6.0</td>\n",
              "      <td>2.0</td>\n",
              "      <td>28</td>\n",
              "      <td>18</td>\n",
              "      <td>3916</td>\n",
              "      <td>29450</td>\n",
              "      <td>0</td>\n",
              "      <td>0</td>\n",
              "      <td>...</td>\n",
              "      <td>0</td>\n",
              "      <td>0</td>\n",
              "      <td>1</td>\n",
              "      <td>0</td>\n",
              "      <td>0</td>\n",
              "      <td>0</td>\n",
              "      <td>0</td>\n",
              "      <td>0</td>\n",
              "      <td>0</td>\n",
              "      <td>0</td>\n",
              "    </tr>\n",
              "    <tr>\n",
              "      <th>4</th>\n",
              "      <td>2011</td>\n",
              "      <td>230.0</td>\n",
              "      <td>6.0</td>\n",
              "      <td>2.0</td>\n",
              "      <td>28</td>\n",
              "      <td>18</td>\n",
              "      <td>3916</td>\n",
              "      <td>34500</td>\n",
              "      <td>0</td>\n",
              "      <td>0</td>\n",
              "      <td>...</td>\n",
              "      <td>1</td>\n",
              "      <td>0</td>\n",
              "      <td>0</td>\n",
              "      <td>0</td>\n",
              "      <td>0</td>\n",
              "      <td>0</td>\n",
              "      <td>0</td>\n",
              "      <td>0</td>\n",
              "      <td>0</td>\n",
              "      <td>0</td>\n",
              "    </tr>\n",
              "    <tr>\n",
              "      <th>...</th>\n",
              "      <td>...</td>\n",
              "      <td>...</td>\n",
              "      <td>...</td>\n",
              "      <td>...</td>\n",
              "      <td>...</td>\n",
              "      <td>...</td>\n",
              "      <td>...</td>\n",
              "      <td>...</td>\n",
              "      <td>...</td>\n",
              "      <td>...</td>\n",
              "      <td>...</td>\n",
              "      <td>...</td>\n",
              "      <td>...</td>\n",
              "      <td>...</td>\n",
              "      <td>...</td>\n",
              "      <td>...</td>\n",
              "      <td>...</td>\n",
              "      <td>...</td>\n",
              "      <td>...</td>\n",
              "      <td>...</td>\n",
              "      <td>...</td>\n",
              "    </tr>\n",
              "    <tr>\n",
              "      <th>11909</th>\n",
              "      <td>2012</td>\n",
              "      <td>300.0</td>\n",
              "      <td>6.0</td>\n",
              "      <td>4.0</td>\n",
              "      <td>23</td>\n",
              "      <td>16</td>\n",
              "      <td>204</td>\n",
              "      <td>46120</td>\n",
              "      <td>1</td>\n",
              "      <td>0</td>\n",
              "      <td>...</td>\n",
              "      <td>0</td>\n",
              "      <td>0</td>\n",
              "      <td>0</td>\n",
              "      <td>0</td>\n",
              "      <td>0</td>\n",
              "      <td>0</td>\n",
              "      <td>0</td>\n",
              "      <td>0</td>\n",
              "      <td>0</td>\n",
              "      <td>0</td>\n",
              "    </tr>\n",
              "    <tr>\n",
              "      <th>11910</th>\n",
              "      <td>2012</td>\n",
              "      <td>300.0</td>\n",
              "      <td>6.0</td>\n",
              "      <td>4.0</td>\n",
              "      <td>23</td>\n",
              "      <td>16</td>\n",
              "      <td>204</td>\n",
              "      <td>56670</td>\n",
              "      <td>1</td>\n",
              "      <td>0</td>\n",
              "      <td>...</td>\n",
              "      <td>0</td>\n",
              "      <td>0</td>\n",
              "      <td>0</td>\n",
              "      <td>0</td>\n",
              "      <td>0</td>\n",
              "      <td>0</td>\n",
              "      <td>0</td>\n",
              "      <td>0</td>\n",
              "      <td>0</td>\n",
              "      <td>0</td>\n",
              "    </tr>\n",
              "    <tr>\n",
              "      <th>11911</th>\n",
              "      <td>2012</td>\n",
              "      <td>300.0</td>\n",
              "      <td>6.0</td>\n",
              "      <td>4.0</td>\n",
              "      <td>23</td>\n",
              "      <td>16</td>\n",
              "      <td>204</td>\n",
              "      <td>50620</td>\n",
              "      <td>1</td>\n",
              "      <td>0</td>\n",
              "      <td>...</td>\n",
              "      <td>0</td>\n",
              "      <td>0</td>\n",
              "      <td>0</td>\n",
              "      <td>0</td>\n",
              "      <td>0</td>\n",
              "      <td>0</td>\n",
              "      <td>0</td>\n",
              "      <td>0</td>\n",
              "      <td>0</td>\n",
              "      <td>0</td>\n",
              "    </tr>\n",
              "    <tr>\n",
              "      <th>11912</th>\n",
              "      <td>2013</td>\n",
              "      <td>300.0</td>\n",
              "      <td>6.0</td>\n",
              "      <td>4.0</td>\n",
              "      <td>23</td>\n",
              "      <td>16</td>\n",
              "      <td>204</td>\n",
              "      <td>50920</td>\n",
              "      <td>1</td>\n",
              "      <td>0</td>\n",
              "      <td>...</td>\n",
              "      <td>0</td>\n",
              "      <td>0</td>\n",
              "      <td>0</td>\n",
              "      <td>0</td>\n",
              "      <td>0</td>\n",
              "      <td>0</td>\n",
              "      <td>0</td>\n",
              "      <td>0</td>\n",
              "      <td>0</td>\n",
              "      <td>0</td>\n",
              "    </tr>\n",
              "    <tr>\n",
              "      <th>11913</th>\n",
              "      <td>2006</td>\n",
              "      <td>221.0</td>\n",
              "      <td>6.0</td>\n",
              "      <td>4.0</td>\n",
              "      <td>26</td>\n",
              "      <td>17</td>\n",
              "      <td>61</td>\n",
              "      <td>28995</td>\n",
              "      <td>0</td>\n",
              "      <td>0</td>\n",
              "      <td>...</td>\n",
              "      <td>0</td>\n",
              "      <td>0</td>\n",
              "      <td>0</td>\n",
              "      <td>0</td>\n",
              "      <td>0</td>\n",
              "      <td>0</td>\n",
              "      <td>0</td>\n",
              "      <td>0</td>\n",
              "      <td>1</td>\n",
              "      <td>0</td>\n",
              "    </tr>\n",
              "  </tbody>\n",
              "</table>\n",
              "<p>11914 rows × 1080 columns</p>\n",
              "</div>\n",
              "      <button class=\"colab-df-convert\" onclick=\"convertToInteractive('df-dbc260c7-e8ff-4fdd-a742-64367b948e5c')\"\n",
              "              title=\"Convert this dataframe to an interactive table.\"\n",
              "              style=\"display:none;\">\n",
              "        \n",
              "  <svg xmlns=\"http://www.w3.org/2000/svg\" height=\"24px\"viewBox=\"0 0 24 24\"\n",
              "       width=\"24px\">\n",
              "    <path d=\"M0 0h24v24H0V0z\" fill=\"none\"/>\n",
              "    <path d=\"M18.56 5.44l.94 2.06.94-2.06 2.06-.94-2.06-.94-.94-2.06-.94 2.06-2.06.94zm-11 1L8.5 8.5l.94-2.06 2.06-.94-2.06-.94L8.5 2.5l-.94 2.06-2.06.94zm10 10l.94 2.06.94-2.06 2.06-.94-2.06-.94-.94-2.06-.94 2.06-2.06.94z\"/><path d=\"M17.41 7.96l-1.37-1.37c-.4-.4-.92-.59-1.43-.59-.52 0-1.04.2-1.43.59L10.3 9.45l-7.72 7.72c-.78.78-.78 2.05 0 2.83L4 21.41c.39.39.9.59 1.41.59.51 0 1.02-.2 1.41-.59l7.78-7.78 2.81-2.81c.8-.78.8-2.07 0-2.86zM5.41 20L4 18.59l7.72-7.72 1.47 1.35L5.41 20z\"/>\n",
              "  </svg>\n",
              "      </button>\n",
              "      \n",
              "  <style>\n",
              "    .colab-df-container {\n",
              "      display:flex;\n",
              "      flex-wrap:wrap;\n",
              "      gap: 12px;\n",
              "    }\n",
              "\n",
              "    .colab-df-convert {\n",
              "      background-color: #E8F0FE;\n",
              "      border: none;\n",
              "      border-radius: 50%;\n",
              "      cursor: pointer;\n",
              "      display: none;\n",
              "      fill: #1967D2;\n",
              "      height: 32px;\n",
              "      padding: 0 0 0 0;\n",
              "      width: 32px;\n",
              "    }\n",
              "\n",
              "    .colab-df-convert:hover {\n",
              "      background-color: #E2EBFA;\n",
              "      box-shadow: 0px 1px 2px rgba(60, 64, 67, 0.3), 0px 1px 3px 1px rgba(60, 64, 67, 0.15);\n",
              "      fill: #174EA6;\n",
              "    }\n",
              "\n",
              "    [theme=dark] .colab-df-convert {\n",
              "      background-color: #3B4455;\n",
              "      fill: #D2E3FC;\n",
              "    }\n",
              "\n",
              "    [theme=dark] .colab-df-convert:hover {\n",
              "      background-color: #434B5C;\n",
              "      box-shadow: 0px 1px 3px 1px rgba(0, 0, 0, 0.15);\n",
              "      filter: drop-shadow(0px 1px 2px rgba(0, 0, 0, 0.3));\n",
              "      fill: #FFFFFF;\n",
              "    }\n",
              "  </style>\n",
              "\n",
              "      <script>\n",
              "        const buttonEl =\n",
              "          document.querySelector('#df-dbc260c7-e8ff-4fdd-a742-64367b948e5c button.colab-df-convert');\n",
              "        buttonEl.style.display =\n",
              "          google.colab.kernel.accessAllowed ? 'block' : 'none';\n",
              "\n",
              "        async function convertToInteractive(key) {\n",
              "          const element = document.querySelector('#df-dbc260c7-e8ff-4fdd-a742-64367b948e5c');\n",
              "          const dataTable =\n",
              "            await google.colab.kernel.invokeFunction('convertToInteractive',\n",
              "                                                     [key], {});\n",
              "          if (!dataTable) return;\n",
              "\n",
              "          const docLinkHtml = 'Like what you see? Visit the ' +\n",
              "            '<a target=\"_blank\" href=https://colab.research.google.com/notebooks/data_table.ipynb>data table notebook</a>'\n",
              "            + ' to learn more about interactive tables.';\n",
              "          element.innerHTML = '';\n",
              "          dataTable['output_type'] = 'display_data';\n",
              "          await google.colab.output.renderOutput(dataTable, element);\n",
              "          const docLink = document.createElement('div');\n",
              "          docLink.innerHTML = docLinkHtml;\n",
              "          element.appendChild(docLink);\n",
              "        }\n",
              "      </script>\n",
              "    </div>\n",
              "  </div>\n",
              "  "
            ]
          },
          "metadata": {},
          "execution_count": 7
        },
        {
          "output_type": "stream",
          "name": "stdout",
          "text": [
            "Warning: Total number of columns (1080) exceeds max_columns (20) limiting to first (20) columns.\n"
          ]
        }
      ]
    },
    {
      "cell_type": "markdown",
      "metadata": {
        "id": "nh4XMDo-gETV"
      },
      "source": [
        "One last thing to check before we train. If any of the values are missing in our dataset, they will be listed as NaN (not a number) in our dataframe. When we go to train, our algorithm won't know what to do with these values so we are going to go ahead and remove any rows with missing values now. We should also check for and remove any duplicated columns as well."
      ]
    },
    {
      "cell_type": "code",
      "metadata": {
        "id": "aDkrtiSegTBg",
        "colab": {
          "base_uri": "https://localhost:8080/",
          "height": 522
        },
        "outputId": "78f0182e-3932-4f9f-89bc-bacd2ec1825a"
      },
      "source": [
        "processed_data.dropna(inplace=True)\n",
        "processed_data = processed_data.loc[:,~processed_data.columns.duplicated()]\n",
        "processed_data"
      ],
      "execution_count": null,
      "outputs": [
        {
          "output_type": "execute_result",
          "data": {
            "text/plain": [
              "       Year  Engine HP  Engine Cylinders  Number of Doors  highway MPG  \\\n",
              "0      2011      335.0               6.0              2.0           26   \n",
              "1      2011      300.0               6.0              2.0           28   \n",
              "2      2011      300.0               6.0              2.0           28   \n",
              "3      2011      230.0               6.0              2.0           28   \n",
              "4      2011      230.0               6.0              2.0           28   \n",
              "...     ...        ...               ...              ...          ...   \n",
              "11909  2012      300.0               6.0              4.0           23   \n",
              "11910  2012      300.0               6.0              4.0           23   \n",
              "11911  2012      300.0               6.0              4.0           23   \n",
              "11912  2013      300.0               6.0              4.0           23   \n",
              "11913  2006      221.0               6.0              4.0           26   \n",
              "\n",
              "       city mpg  Popularity   MSRP  Acura  Alfa Romeo  ...  Cargo Van  \\\n",
              "0            19        3916  46135      0           0  ...          0   \n",
              "1            19        3916  40650      0           0  ...          0   \n",
              "2            20        3916  36350      0           0  ...          0   \n",
              "3            18        3916  29450      0           0  ...          0   \n",
              "4            18        3916  34500      0           0  ...          0   \n",
              "...         ...         ...    ...    ...         ...  ...        ...   \n",
              "11909        16         204  46120      1           0  ...          0   \n",
              "11910        16         204  56670      1           0  ...          0   \n",
              "11911        16         204  50620      1           0  ...          0   \n",
              "11912        16         204  50920      1           0  ...          0   \n",
              "11913        17          61  28995      0           0  ...          0   \n",
              "\n",
              "       Convertible  Convertible SUV  Crew Cab Pickup  Extended Cab Pickup  \\\n",
              "0                0                0                0                    0   \n",
              "1                1                0                0                    0   \n",
              "2                0                0                0                    0   \n",
              "3                0                0                0                    0   \n",
              "4                1                0                0                    0   \n",
              "...            ...              ...              ...                  ...   \n",
              "11909            0                0                0                    0   \n",
              "11910            0                0                0                    0   \n",
              "11911            0                0                0                    0   \n",
              "11912            0                0                0                    0   \n",
              "11913            0                0                0                    0   \n",
              "\n",
              "       Passenger Minivan  Passenger Van  Regular Cab Pickup  Sedan  Wagon  \n",
              "0                      0              0                   0      0      0  \n",
              "1                      0              0                   0      0      0  \n",
              "2                      0              0                   0      0      0  \n",
              "3                      0              0                   0      0      0  \n",
              "4                      0              0                   0      0      0  \n",
              "...                  ...            ...                 ...    ...    ...  \n",
              "11909                  0              0                   0      0      0  \n",
              "11910                  0              0                   0      0      0  \n",
              "11911                  0              0                   0      0      0  \n",
              "11912                  0              0                   0      0      0  \n",
              "11913                  0              0                   0      1      0  \n",
              "\n",
              "[11815 rows x 1077 columns]"
            ],
            "text/html": [
              "\n",
              "  <div id=\"df-6cc3a50f-3e97-4833-bf07-a6f03b351a7b\">\n",
              "    <div class=\"colab-df-container\">\n",
              "      <div>\n",
              "<style scoped>\n",
              "    .dataframe tbody tr th:only-of-type {\n",
              "        vertical-align: middle;\n",
              "    }\n",
              "\n",
              "    .dataframe tbody tr th {\n",
              "        vertical-align: top;\n",
              "    }\n",
              "\n",
              "    .dataframe thead th {\n",
              "        text-align: right;\n",
              "    }\n",
              "</style>\n",
              "<table border=\"1\" class=\"dataframe\">\n",
              "  <thead>\n",
              "    <tr style=\"text-align: right;\">\n",
              "      <th></th>\n",
              "      <th>Year</th>\n",
              "      <th>Engine HP</th>\n",
              "      <th>Engine Cylinders</th>\n",
              "      <th>Number of Doors</th>\n",
              "      <th>highway MPG</th>\n",
              "      <th>city mpg</th>\n",
              "      <th>Popularity</th>\n",
              "      <th>MSRP</th>\n",
              "      <th>Acura</th>\n",
              "      <th>Alfa Romeo</th>\n",
              "      <th>...</th>\n",
              "      <th>Cargo Van</th>\n",
              "      <th>Convertible</th>\n",
              "      <th>Convertible SUV</th>\n",
              "      <th>Crew Cab Pickup</th>\n",
              "      <th>Extended Cab Pickup</th>\n",
              "      <th>Passenger Minivan</th>\n",
              "      <th>Passenger Van</th>\n",
              "      <th>Regular Cab Pickup</th>\n",
              "      <th>Sedan</th>\n",
              "      <th>Wagon</th>\n",
              "    </tr>\n",
              "  </thead>\n",
              "  <tbody>\n",
              "    <tr>\n",
              "      <th>0</th>\n",
              "      <td>2011</td>\n",
              "      <td>335.0</td>\n",
              "      <td>6.0</td>\n",
              "      <td>2.0</td>\n",
              "      <td>26</td>\n",
              "      <td>19</td>\n",
              "      <td>3916</td>\n",
              "      <td>46135</td>\n",
              "      <td>0</td>\n",
              "      <td>0</td>\n",
              "      <td>...</td>\n",
              "      <td>0</td>\n",
              "      <td>0</td>\n",
              "      <td>0</td>\n",
              "      <td>0</td>\n",
              "      <td>0</td>\n",
              "      <td>0</td>\n",
              "      <td>0</td>\n",
              "      <td>0</td>\n",
              "      <td>0</td>\n",
              "      <td>0</td>\n",
              "    </tr>\n",
              "    <tr>\n",
              "      <th>1</th>\n",
              "      <td>2011</td>\n",
              "      <td>300.0</td>\n",
              "      <td>6.0</td>\n",
              "      <td>2.0</td>\n",
              "      <td>28</td>\n",
              "      <td>19</td>\n",
              "      <td>3916</td>\n",
              "      <td>40650</td>\n",
              "      <td>0</td>\n",
              "      <td>0</td>\n",
              "      <td>...</td>\n",
              "      <td>0</td>\n",
              "      <td>1</td>\n",
              "      <td>0</td>\n",
              "      <td>0</td>\n",
              "      <td>0</td>\n",
              "      <td>0</td>\n",
              "      <td>0</td>\n",
              "      <td>0</td>\n",
              "      <td>0</td>\n",
              "      <td>0</td>\n",
              "    </tr>\n",
              "    <tr>\n",
              "      <th>2</th>\n",
              "      <td>2011</td>\n",
              "      <td>300.0</td>\n",
              "      <td>6.0</td>\n",
              "      <td>2.0</td>\n",
              "      <td>28</td>\n",
              "      <td>20</td>\n",
              "      <td>3916</td>\n",
              "      <td>36350</td>\n",
              "      <td>0</td>\n",
              "      <td>0</td>\n",
              "      <td>...</td>\n",
              "      <td>0</td>\n",
              "      <td>0</td>\n",
              "      <td>0</td>\n",
              "      <td>0</td>\n",
              "      <td>0</td>\n",
              "      <td>0</td>\n",
              "      <td>0</td>\n",
              "      <td>0</td>\n",
              "      <td>0</td>\n",
              "      <td>0</td>\n",
              "    </tr>\n",
              "    <tr>\n",
              "      <th>3</th>\n",
              "      <td>2011</td>\n",
              "      <td>230.0</td>\n",
              "      <td>6.0</td>\n",
              "      <td>2.0</td>\n",
              "      <td>28</td>\n",
              "      <td>18</td>\n",
              "      <td>3916</td>\n",
              "      <td>29450</td>\n",
              "      <td>0</td>\n",
              "      <td>0</td>\n",
              "      <td>...</td>\n",
              "      <td>0</td>\n",
              "      <td>0</td>\n",
              "      <td>0</td>\n",
              "      <td>0</td>\n",
              "      <td>0</td>\n",
              "      <td>0</td>\n",
              "      <td>0</td>\n",
              "      <td>0</td>\n",
              "      <td>0</td>\n",
              "      <td>0</td>\n",
              "    </tr>\n",
              "    <tr>\n",
              "      <th>4</th>\n",
              "      <td>2011</td>\n",
              "      <td>230.0</td>\n",
              "      <td>6.0</td>\n",
              "      <td>2.0</td>\n",
              "      <td>28</td>\n",
              "      <td>18</td>\n",
              "      <td>3916</td>\n",
              "      <td>34500</td>\n",
              "      <td>0</td>\n",
              "      <td>0</td>\n",
              "      <td>...</td>\n",
              "      <td>0</td>\n",
              "      <td>1</td>\n",
              "      <td>0</td>\n",
              "      <td>0</td>\n",
              "      <td>0</td>\n",
              "      <td>0</td>\n",
              "      <td>0</td>\n",
              "      <td>0</td>\n",
              "      <td>0</td>\n",
              "      <td>0</td>\n",
              "    </tr>\n",
              "    <tr>\n",
              "      <th>...</th>\n",
              "      <td>...</td>\n",
              "      <td>...</td>\n",
              "      <td>...</td>\n",
              "      <td>...</td>\n",
              "      <td>...</td>\n",
              "      <td>...</td>\n",
              "      <td>...</td>\n",
              "      <td>...</td>\n",
              "      <td>...</td>\n",
              "      <td>...</td>\n",
              "      <td>...</td>\n",
              "      <td>...</td>\n",
              "      <td>...</td>\n",
              "      <td>...</td>\n",
              "      <td>...</td>\n",
              "      <td>...</td>\n",
              "      <td>...</td>\n",
              "      <td>...</td>\n",
              "      <td>...</td>\n",
              "      <td>...</td>\n",
              "      <td>...</td>\n",
              "    </tr>\n",
              "    <tr>\n",
              "      <th>11909</th>\n",
              "      <td>2012</td>\n",
              "      <td>300.0</td>\n",
              "      <td>6.0</td>\n",
              "      <td>4.0</td>\n",
              "      <td>23</td>\n",
              "      <td>16</td>\n",
              "      <td>204</td>\n",
              "      <td>46120</td>\n",
              "      <td>1</td>\n",
              "      <td>0</td>\n",
              "      <td>...</td>\n",
              "      <td>0</td>\n",
              "      <td>0</td>\n",
              "      <td>0</td>\n",
              "      <td>0</td>\n",
              "      <td>0</td>\n",
              "      <td>0</td>\n",
              "      <td>0</td>\n",
              "      <td>0</td>\n",
              "      <td>0</td>\n",
              "      <td>0</td>\n",
              "    </tr>\n",
              "    <tr>\n",
              "      <th>11910</th>\n",
              "      <td>2012</td>\n",
              "      <td>300.0</td>\n",
              "      <td>6.0</td>\n",
              "      <td>4.0</td>\n",
              "      <td>23</td>\n",
              "      <td>16</td>\n",
              "      <td>204</td>\n",
              "      <td>56670</td>\n",
              "      <td>1</td>\n",
              "      <td>0</td>\n",
              "      <td>...</td>\n",
              "      <td>0</td>\n",
              "      <td>0</td>\n",
              "      <td>0</td>\n",
              "      <td>0</td>\n",
              "      <td>0</td>\n",
              "      <td>0</td>\n",
              "      <td>0</td>\n",
              "      <td>0</td>\n",
              "      <td>0</td>\n",
              "      <td>0</td>\n",
              "    </tr>\n",
              "    <tr>\n",
              "      <th>11911</th>\n",
              "      <td>2012</td>\n",
              "      <td>300.0</td>\n",
              "      <td>6.0</td>\n",
              "      <td>4.0</td>\n",
              "      <td>23</td>\n",
              "      <td>16</td>\n",
              "      <td>204</td>\n",
              "      <td>50620</td>\n",
              "      <td>1</td>\n",
              "      <td>0</td>\n",
              "      <td>...</td>\n",
              "      <td>0</td>\n",
              "      <td>0</td>\n",
              "      <td>0</td>\n",
              "      <td>0</td>\n",
              "      <td>0</td>\n",
              "      <td>0</td>\n",
              "      <td>0</td>\n",
              "      <td>0</td>\n",
              "      <td>0</td>\n",
              "      <td>0</td>\n",
              "    </tr>\n",
              "    <tr>\n",
              "      <th>11912</th>\n",
              "      <td>2013</td>\n",
              "      <td>300.0</td>\n",
              "      <td>6.0</td>\n",
              "      <td>4.0</td>\n",
              "      <td>23</td>\n",
              "      <td>16</td>\n",
              "      <td>204</td>\n",
              "      <td>50920</td>\n",
              "      <td>1</td>\n",
              "      <td>0</td>\n",
              "      <td>...</td>\n",
              "      <td>0</td>\n",
              "      <td>0</td>\n",
              "      <td>0</td>\n",
              "      <td>0</td>\n",
              "      <td>0</td>\n",
              "      <td>0</td>\n",
              "      <td>0</td>\n",
              "      <td>0</td>\n",
              "      <td>0</td>\n",
              "      <td>0</td>\n",
              "    </tr>\n",
              "    <tr>\n",
              "      <th>11913</th>\n",
              "      <td>2006</td>\n",
              "      <td>221.0</td>\n",
              "      <td>6.0</td>\n",
              "      <td>4.0</td>\n",
              "      <td>26</td>\n",
              "      <td>17</td>\n",
              "      <td>61</td>\n",
              "      <td>28995</td>\n",
              "      <td>0</td>\n",
              "      <td>0</td>\n",
              "      <td>...</td>\n",
              "      <td>0</td>\n",
              "      <td>0</td>\n",
              "      <td>0</td>\n",
              "      <td>0</td>\n",
              "      <td>0</td>\n",
              "      <td>0</td>\n",
              "      <td>0</td>\n",
              "      <td>0</td>\n",
              "      <td>1</td>\n",
              "      <td>0</td>\n",
              "    </tr>\n",
              "  </tbody>\n",
              "</table>\n",
              "<p>11815 rows × 1077 columns</p>\n",
              "</div>\n",
              "      <button class=\"colab-df-convert\" onclick=\"convertToInteractive('df-6cc3a50f-3e97-4833-bf07-a6f03b351a7b')\"\n",
              "              title=\"Convert this dataframe to an interactive table.\"\n",
              "              style=\"display:none;\">\n",
              "        \n",
              "  <svg xmlns=\"http://www.w3.org/2000/svg\" height=\"24px\"viewBox=\"0 0 24 24\"\n",
              "       width=\"24px\">\n",
              "    <path d=\"M0 0h24v24H0V0z\" fill=\"none\"/>\n",
              "    <path d=\"M18.56 5.44l.94 2.06.94-2.06 2.06-.94-2.06-.94-.94-2.06-.94 2.06-2.06.94zm-11 1L8.5 8.5l.94-2.06 2.06-.94-2.06-.94L8.5 2.5l-.94 2.06-2.06.94zm10 10l.94 2.06.94-2.06 2.06-.94-2.06-.94-.94-2.06-.94 2.06-2.06.94z\"/><path d=\"M17.41 7.96l-1.37-1.37c-.4-.4-.92-.59-1.43-.59-.52 0-1.04.2-1.43.59L10.3 9.45l-7.72 7.72c-.78.78-.78 2.05 0 2.83L4 21.41c.39.39.9.59 1.41.59.51 0 1.02-.2 1.41-.59l7.78-7.78 2.81-2.81c.8-.78.8-2.07 0-2.86zM5.41 20L4 18.59l7.72-7.72 1.47 1.35L5.41 20z\"/>\n",
              "  </svg>\n",
              "      </button>\n",
              "      \n",
              "  <style>\n",
              "    .colab-df-container {\n",
              "      display:flex;\n",
              "      flex-wrap:wrap;\n",
              "      gap: 12px;\n",
              "    }\n",
              "\n",
              "    .colab-df-convert {\n",
              "      background-color: #E8F0FE;\n",
              "      border: none;\n",
              "      border-radius: 50%;\n",
              "      cursor: pointer;\n",
              "      display: none;\n",
              "      fill: #1967D2;\n",
              "      height: 32px;\n",
              "      padding: 0 0 0 0;\n",
              "      width: 32px;\n",
              "    }\n",
              "\n",
              "    .colab-df-convert:hover {\n",
              "      background-color: #E2EBFA;\n",
              "      box-shadow: 0px 1px 2px rgba(60, 64, 67, 0.3), 0px 1px 3px 1px rgba(60, 64, 67, 0.15);\n",
              "      fill: #174EA6;\n",
              "    }\n",
              "\n",
              "    [theme=dark] .colab-df-convert {\n",
              "      background-color: #3B4455;\n",
              "      fill: #D2E3FC;\n",
              "    }\n",
              "\n",
              "    [theme=dark] .colab-df-convert:hover {\n",
              "      background-color: #434B5C;\n",
              "      box-shadow: 0px 1px 3px 1px rgba(0, 0, 0, 0.15);\n",
              "      filter: drop-shadow(0px 1px 2px rgba(0, 0, 0, 0.3));\n",
              "      fill: #FFFFFF;\n",
              "    }\n",
              "  </style>\n",
              "\n",
              "      <script>\n",
              "        const buttonEl =\n",
              "          document.querySelector('#df-6cc3a50f-3e97-4833-bf07-a6f03b351a7b button.colab-df-convert');\n",
              "        buttonEl.style.display =\n",
              "          google.colab.kernel.accessAllowed ? 'block' : 'none';\n",
              "\n",
              "        async function convertToInteractive(key) {\n",
              "          const element = document.querySelector('#df-6cc3a50f-3e97-4833-bf07-a6f03b351a7b');\n",
              "          const dataTable =\n",
              "            await google.colab.kernel.invokeFunction('convertToInteractive',\n",
              "                                                     [key], {});\n",
              "          if (!dataTable) return;\n",
              "\n",
              "          const docLinkHtml = 'Like what you see? Visit the ' +\n",
              "            '<a target=\"_blank\" href=https://colab.research.google.com/notebooks/data_table.ipynb>data table notebook</a>'\n",
              "            + ' to learn more about interactive tables.';\n",
              "          element.innerHTML = '';\n",
              "          dataTable['output_type'] = 'display_data';\n",
              "          await google.colab.output.renderOutput(dataTable, element);\n",
              "          const docLink = document.createElement('div');\n",
              "          docLink.innerHTML = docLinkHtml;\n",
              "          element.appendChild(docLink);\n",
              "        }\n",
              "      </script>\n",
              "    </div>\n",
              "  </div>\n",
              "  "
            ]
          },
          "metadata": {},
          "execution_count": 8
        }
      ]
    },
    {
      "cell_type": "markdown",
      "metadata": {
        "id": "ujlEfWORktMc"
      },
      "source": [
        "\n",
        "\n",
        "---\n",
        "\n",
        "###Single Variable Linear Regression"
      ]
    },
    {
      "cell_type": "markdown",
      "metadata": {
        "id": "7AxWxRRzceX6"
      },
      "source": [
        "While we could spend much more time going through our data to make it easier to train off of, I'm going to move on to training using linear regression due to time constraints for this session. We will be using a library called scikit-learn for this. Let's start with just using one variable to keep it simple. Can we predict the price of a car based only on the car's horsepower rating?"
      ]
    },
    {
      "cell_type": "code",
      "metadata": {
        "id": "gE59Cz9aitdQ",
        "colab": {
          "base_uri": "https://localhost:8080/",
          "height": 295
        },
        "outputId": "c02a013f-e615-4780-bb06-5811e02f6907"
      },
      "source": [
        "# feel free to play with different features to use for X, ie Engine Cylinders, Year, etc\n",
        "x_single = processed_data['Engine HP']\n",
        "y_single = processed_data['MSRP']\n",
        "\n",
        "# some of this code comes from https://pythonspot.com/linear-regression/\n",
        "\n",
        "x_single = x_single.values.reshape(len(x_single),1)\n",
        "y_single = y_single.values.reshape(len(y_single),1)\n",
        "\n",
        "# Split the data into training/testing sets\n",
        "x_single_train = x_single[:-250]\n",
        "x_single_test = x_single[-250:]\n",
        "\n",
        "# Split the targets into training/testing sets\n",
        "y_single_train = y_single[:-250]\n",
        "y_single_test = y_single[-250:]\n",
        "\n",
        "# Plot outputs\n",
        "plt.scatter(x_single_train, y_single_train,  color='black')\n",
        "plt.title('Training Data')\n",
        "plt.xlabel('HP')\n",
        "plt.ylabel('Price')\n",
        "plt.ticklabel_format(style='plain')\n",
        "\n",
        "plt.show()"
      ],
      "execution_count": null,
      "outputs": [
        {
          "output_type": "display_data",
          "data": {
            "text/plain": [
              "<Figure size 432x288 with 1 Axes>"
            ],
            "image/png": "[encoded data removed]"
          },
          "metadata": {
            "needs_background": "light"
          }
        }
      ]
    },
    {
      "cell_type": "markdown",
      "metadata": {
        "id": "ZRrVLON_dwhv"
      },
      "source": [
        "Above you can see a plot of HP vs Price for the cars in our dataset. Our goal now is to find the line of best fit for this data. This is where our linear regression training comes in."
      ]
    },
    {
      "cell_type": "code",
      "metadata": {
        "id": "VpSIeL2Gd7Mg",
        "colab": {
          "base_uri": "https://localhost:8080/",
          "height": 525
        },
        "outputId": "8e2fa6b7-f23c-4ead-ebbd-b8df2c9f5540"
      },
      "source": [
        "# Create linear regression object\n",
        "regr = linear_model.LinearRegression(normalize=True)\n",
        "\n",
        "# Train the model using the training sets\n",
        "regr.fit(x_single_train, y_single_train)\n",
        "\n",
        "# Plot outputs\n",
        "plt.scatter(x_single_test, y_single_test,  color='black')\n",
        "plt.plot(x_single_test, regr.predict(x_single_test), color='red',linewidth=3)"
      ],
      "execution_count": null,
      "outputs": [
        {
          "output_type": "stream",
          "name": "stderr",
          "text": [
            "/usr/local/lib/python3.8/dist-packages/sklearn/linear_model/_base.py:141: FutureWarning: 'normalize' was deprecated in version 1.0 and will be removed in 1.2.\n",
            "If you wish to scale the data, use Pipeline with a StandardScaler in a preprocessing stage. To reproduce the previous behavior:\n",
            "\n",
            "from sklearn.pipeline import make_pipeline\n",
            "\n",
            "model = make_pipeline(StandardScaler(with_mean=False), LinearRegression())\n",
            "\n",
            "If you wish to pass a sample_weight parameter, you need to pass it as a fit parameter to each step of the pipeline as follows:\n",
            "\n",
            "kwargs = {s[0] + '__sample_weight': sample_weight for s in model.steps}\n",
            "model.fit(X, y, **kwargs)\n",
            "\n",
            "\n",
            "  warnings.warn(\n"
          ]
        },
        {
          "output_type": "execute_result",
          "data": {
            "text/plain": [
              "[<matplotlib.lines.Line2D at 0x7f58d4e05490>]"
            ]
          },
          "metadata": {},
          "execution_count": 10
        },
        {
          "output_type": "display_data",
          "data": {
            "text/plain": [
              "<Figure size 432x288 with 1 Axes>"
            ],
            "image/png": "[encoded data removed]"
          },
          "metadata": {
            "needs_background": "light"
          }
        }
      ]
    },
    {
      "cell_type": "markdown",
      "metadata": {
        "id": "JyxUvLnn-SmE"
      },
      "source": [
        "The plot above shows the X and Y validation data in black as before but now we have our line of best fit in red overlaid on the plot. We can now use our model to make predictions, as shown below."
      ]
    },
    {
      "cell_type": "code",
      "metadata": {
        "id": "83p6Q5iv-dpC",
        "colab": {
          "base_uri": "https://localhost:8080/"
        },
        "outputId": "2c884212-5796-4f4b-f11e-c575417dc193"
      },
      "source": [
        "predict_x = 455\n",
        "\n",
        "print(regr.predict([[predict_x]])) "
      ],
      "execution_count": null,
      "outputs": [
        {
          "output_type": "stream",
          "name": "stdout",
          "text": [
            "[[116221.35326076]]\n"
          ]
        }
      ]
    },
    {
      "cell_type": "markdown",
      "metadata": {
        "id": "laawSOy6pxYj"
      },
      "source": [
        "It can be hard however to gauge the performance of this model based on predictions alone, especially in this case with only one feature being used. The coefficient of determination (or $R^2$) is a much better way to see how our linear regression model is doing. In general, a high $R^2$ value (close to 1) means the model is a good fit for the data. Below you can see the coefficient of determination of our linear regression model. "
      ]
    },
    {
      "cell_type": "code",
      "metadata": {
        "id": "KoWOJVZsNzqE",
        "colab": {
          "base_uri": "https://localhost:8080/"
        },
        "outputId": "b75ae12b-0870-41b5-ca05-f85d27b3c8b8"
      },
      "source": [
        "r_sq = metrics.r2_score(y_single_test, regr.predict(x_single_test))\n",
        "print('coefficient of determination:', r_sq)"
      ],
      "execution_count": null,
      "outputs": [
        {
          "output_type": "stream",
          "name": "stdout",
          "text": [
            "coefficient of determination: 0.2816568017146862\n"
          ]
        }
      ]
    },
    {
      "cell_type": "markdown",
      "source": [
        "Looking at our coefficient of determination you should be able to conclude that this model does not do a very good job of predicting the MSRP of a car. This makes sense because we are only using a linear line for our predictions and using HP alone for our predicitions is not the best strategy for this task. If you look at the plot above closely you might notice something odd - some of our datapoints in our validation set have very low prices. Let's dig a bit deeper..."
      ],
      "metadata": {
        "id": "cucQkmZs1_4J"
      }
    },
    {
      "cell_type": "code",
      "source": [
        "print(\"Minimum MSRP: \" + str(y_single_test.min()))\n",
        "print(\"Instances of $2000 MSRP: \" + str(data[\"MSRP\"].value_counts()[2000]))\n",
        "print(str(data[\"MSRP\"].describe()))"
      ],
      "metadata": {
        "id": "tSd-ZN4T2cjy",
        "colab": {
          "base_uri": "https://localhost:8080/"
        },
        "outputId": "81a83d3c-01ee-4718-b086-799eb880b165"
      },
      "execution_count": null,
      "outputs": [
        {
          "output_type": "stream",
          "name": "stdout",
          "text": [
            "Minimum MSRP: 2000\n",
            "Instances of $2000 MSRP: 1036\n",
            "count    1.191400e+04\n",
            "mean     4.059474e+04\n",
            "std      6.010910e+04\n",
            "min      2.000000e+03\n",
            "25%      2.100000e+04\n",
            "50%      2.999500e+04\n",
            "75%      4.223125e+04\n",
            "max      2.065902e+06\n",
            "Name: MSRP, dtype: float64\n"
          ]
        }
      ]
    },
    {
      "cell_type": "markdown",
      "source": [
        "We have a minimum MSRP of \\$2000 in our validation dataset which seems very suspect. What's worse is that we have over a thousand instances of a \\$2000 MSRP in our whole dataset. When we look through our dataset we see that a lot of the cars listed from the early 1990s have the \\$2000 MSRP. This makes me suspect that either this MSRP was used as a filler value for cars of that era or a zero was left out somewhere since this value is way too low to be reasonable. We are going to keep going with our dataset as is since these discrepencies don't seem to upset our overall quartile statistics too much. However this goes to show that you should always keep your eyes open for dataset issues like this. Fixing this dataset and seeing how that impacts your model perfomances would be a great exercise for you to get started using the code introduced in this workshop."
      ],
      "metadata": {
        "id": "-FT0AknA4ZFH"
      }
    },
    {
      "cell_type": "markdown",
      "metadata": {
        "id": "IbRt8ra5J-WP"
      },
      "source": [
        "While this model is not great in terms of performance, hopefully the code above gives you an idea of the steps involved in training an ML model. If you want to go further with this, go ahead and replace HP in the X variable with one of the other columns to see if it improves performance. Another great step would be to try multivariable linear regression to see how much the results improve with more features."
      ]
    },
    {
      "cell_type": "markdown",
      "metadata": {
        "id": "C8d9hXPyyVRH"
      },
      "source": [
        "\n",
        "\n",
        "---\n",
        "\n"
      ]
    },
    {
      "cell_type": "markdown",
      "metadata": {
        "id": "blft5H_gjWhz"
      },
      "source": [
        "###Decision Trees\n"
      ]
    },
    {
      "cell_type": "markdown",
      "metadata": {
        "id": "sJuuUNczy61c"
      },
      "source": [
        "There's only so far we can get in terms of accuracy with our model when all we have to work with is a straight line. Let's try a decision tree instead to see how that performs for our problem."
      ]
    },
    {
      "cell_type": "code",
      "metadata": {
        "id": "CNHmc0RIPUXc",
        "colab": {
          "base_uri": "https://localhost:8080/"
        },
        "outputId": "4086cf86-0fae-4ece-c32c-6161ef08e82d"
      },
      "source": [
        "x_tree = processed_data.drop('MSRP', axis=1)\n",
        "y_tree = processed_data['MSRP']\n",
        "\n",
        "x_train_tree, x_test_tree, y_train_tree, y_test_tree = train_test_split(x_tree, y_tree, test_size=0.2)\n",
        "\n",
        "# create a regressor object\n",
        "regressor = DecisionTreeRegressor(random_state = 0) \n",
        "  \n",
        "# fit the regressor with X and Y data\n",
        "regressor.fit(x_train_tree, y_train_tree)\n",
        "\n",
        "y_pred = regressor.predict(x_test_tree)\n",
        "\n",
        "print('Mean Absolute Error:', metrics.mean_absolute_error(y_test_tree, y_pred))\n",
        "print('Coefficient of Determination:', metrics.r2_score(y_test_tree, y_pred))"
      ],
      "execution_count": null,
      "outputs": [
        {
          "output_type": "stream",
          "name": "stdout",
          "text": [
            "Mean Absolute Error: 3698.608152133755\n",
            "Coefficient of Determination: 0.837350387818773\n"
          ]
        }
      ]
    },
    {
      "cell_type": "markdown",
      "metadata": {
        "id": "-XCnMFc9r41Z"
      },
      "source": [
        "Here we can see what happens when we are able to use all our data. Take a look especially at the $R^2$ value this time. It's way better than when we were just using HP to try to predict the price. The mean absolute error gives us an idea of how far off, on average, our predictions are from the real prices of the cars. While ~$3000 may seem like a lot for the error, it is actually pretty good margin of error when thought of in the context of the entire price of a car.\n",
        "\n",
        "\n",
        "---\n",
        "\n"
      ]
    },
    {
      "cell_type": "markdown",
      "metadata": {
        "id": "hLuas59uyC5Q"
      },
      "source": [
        "###Random Forest\n"
      ]
    },
    {
      "cell_type": "markdown",
      "metadata": {
        "id": "s4fYxsh3zRXL"
      },
      "source": [
        "Now that we are starting to get some good results, let's see if we can do even better with some more complex techniques. What's better than one decision tree? What about a whole forest of decision trees? Run the code below to see what happens."
      ]
    },
    {
      "cell_type": "code",
      "metadata": {
        "id": "PkXM5E5Rbz_6",
        "colab": {
          "base_uri": "https://localhost:8080/"
        },
        "outputId": "7d36eec2-4c15-416b-d63b-00fcf6d75cb7"
      },
      "source": [
        "x_forest = processed_data.drop('MSRP', axis=1)\n",
        "y_forest = processed_data['MSRP']\n",
        "\n",
        "x_train_forest, x_test_forest, y_train_forest, y_test_forest = train_test_split(x_forest, y_forest, test_size=0.2)\n",
        "\n",
        "forest = RandomForestRegressor()\n",
        "forest.fit(x_train_forest, y_train_forest)\n",
        "\n",
        "y_pred = forest.predict(x_test_forest)\n",
        "\n",
        "print('Mean Absolute Error:', metrics.mean_absolute_error(y_test_forest, y_pred))\n",
        "print('Coefficient of Determination:', metrics.r2_score(y_test_forest, y_pred))"
      ],
      "execution_count": null,
      "outputs": [
        {
          "output_type": "stream",
          "name": "stdout",
          "text": [
            "Mean Absolute Error: 3187.32350484942\n",
            "Coefficient of Determination: 0.9611561101498878\n"
          ]
        }
      ]
    },
    {
      "cell_type": "markdown",
      "metadata": {
        "id": "UOr2rH4q1dk7"
      },
      "source": [
        "Take a look at the MAE and the $R^2$ values this time. While there is an element randomness in using Random Forest, the values you see should be an improvement over the Decision Tree we implemented before.\n",
        "\n",
        "\n",
        "\n",
        "---\n",
        "\n"
      ]
    },
    {
      "cell_type": "markdown",
      "metadata": {
        "id": "Wq8No4Y31fxd"
      },
      "source": [
        "###XGBoost"
      ]
    },
    {
      "cell_type": "markdown",
      "metadata": {
        "id": "CHvA8OTTGECS"
      },
      "source": [
        "Now let's move away from bagging and try a boost ensemble model, in this case XGBoost. This is one of the most popular ML algorithms you'll come across in Kaggle competitions and other such sites. Below is the code needed to create your XGBoost model and fit it to your training data."
      ]
    },
    {
      "cell_type": "code",
      "metadata": {
        "id": "rBMdYaWH1kj7",
        "colab": {
          "base_uri": "https://localhost:8080/"
        },
        "outputId": "122bba57-969c-47e5-8074-fba1ee216c6b"
      },
      "source": [
        "x_boost = processed_data.drop('MSRP', axis=1)\n",
        "y_boost = processed_data['MSRP']\n",
        "\n",
        "x_train_boost, x_test_boost, y_train_boost, y_test_boost = train_test_split(x_boost, y_boost, test_size=0.2)\n",
        "\n",
        "boost = XGBRegressor()\n",
        "boost.fit(x_train_boost, y_train_boost)"
      ],
      "execution_count": null,
      "outputs": [
        {
          "output_type": "stream",
          "name": "stdout",
          "text": [
            "[17:01:37] WARNING: /workspace/src/objective/regression_obj.cu:152: reg:linear is now deprecated in favor of reg:squarederror.\n"
          ]
        },
        {
          "output_type": "execute_result",
          "data": {
            "text/plain": [
              "XGBRegressor()"
            ]
          },
          "metadata": {},
          "execution_count": 16
        }
      ]
    },
    {
      "cell_type": "markdown",
      "metadata": {
        "id": "lMp8GauOLHeG"
      },
      "source": [
        "Now that our model is trained, let's see how it is doing on our data."
      ]
    },
    {
      "cell_type": "code",
      "metadata": {
        "id": "s_j2fYTm8z1I",
        "colab": {
          "base_uri": "https://localhost:8080/"
        },
        "outputId": "0dbd1000-c892-461e-acfd-0a57e6b32468"
      },
      "source": [
        "p = boost.predict(x_test_boost)\n",
        "print('Mean Absolute Error:', metrics.mean_absolute_error(y_test_boost, p))\n",
        "print('Coefficient of Determination:', metrics.r2_score(y_test_boost, p))"
      ],
      "execution_count": null,
      "outputs": [
        {
          "output_type": "stream",
          "name": "stdout",
          "text": [
            "Mean Absolute Error: 6852.939424815846\n",
            "Coefficient of Determination: 0.848083015091768\n"
          ]
        }
      ]
    },
    {
      "cell_type": "markdown",
      "metadata": {
        "id": "GU0PFdekEnBe"
      },
      "source": [
        "Perfomance on this dataset is pretty good for XGBoost. Like with Random Forest, there is randomness involved with the training of this model so you might see slightly different results each time you run the model fitting code. \n",
        "\n",
        "\n",
        "\n",
        "---\n",
        "\n"
      ]
    },
    {
      "cell_type": "markdown",
      "metadata": {
        "id": "irV2gzF_ElKp"
      },
      "source": [
        "###Conclusion"
      ]
    },
    {
      "cell_type": "markdown",
      "metadata": {
        "id": "fsH_MscJEp_-"
      },
      "source": [
        "This wraps up our whirlwind tour of machine learning. Hopefully this gives you a good starting point to try using some of these algorithms for your own projects. Some last pieces of advice: take some time to get familiar with all they hyperparameters of the algorithm you are using. I didn't have the time to get into that for this session but scikit learn and XGBoost both have a ton of helpful options you can play with for their algorithms. Finally, don't get discouraged if you start a project and end up with a bunch of errors. Google search is your friend and a large part of getting better at ML projects, just like normal programming, is making mistakes and learning from them. Thanks for your time and happy coding!"
      ]
    }
  ]
}